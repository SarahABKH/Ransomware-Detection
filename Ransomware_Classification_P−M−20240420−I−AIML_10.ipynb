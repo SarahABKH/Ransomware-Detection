{
  "cells": [
    {
      "cell_type": "markdown",
      "metadata": {
        "id": "3RtPg5qb1soH"
      },
      "source": [
        "## Load the training dataset"
      ]
    },
    {
      "cell_type": "code",
      "execution_count": 1,
      "metadata": {
        "colab": {
          "base_uri": "https://localhost:8080/"
        },
        "id": "TN7YUfWI1tJT",
        "outputId": "e13550b2-8e9a-4d99-aec2-484ccb93e92b"
      },
      "outputs": [
        {
          "ename": "ModuleNotFoundError",
          "evalue": "No module named 'pydrive'",
          "output_type": "error",
          "traceback": [
            "\u001b[1;31m---------------------------------------------------------------------------\u001b[0m",
            "\u001b[1;31mModuleNotFoundError\u001b[0m                       Traceback (most recent call last)",
            "Cell \u001b[1;32mIn[1], line 2\u001b[0m\n\u001b[0;32m      1\u001b[0m \u001b[38;5;66;03m# libraries for the files in google drive\u001b[39;00m\n\u001b[1;32m----> 2\u001b[0m \u001b[38;5;28;01mfrom\u001b[39;00m \u001b[38;5;21;01mpydrive\u001b[39;00m\u001b[38;5;21;01m.\u001b[39;00m\u001b[38;5;21;01mauth\u001b[39;00m \u001b[38;5;28;01mimport\u001b[39;00m GoogleAuth\n\u001b[0;32m      3\u001b[0m \u001b[38;5;28;01mfrom\u001b[39;00m \u001b[38;5;21;01mgoogle\u001b[39;00m\u001b[38;5;21;01m.\u001b[39;00m\u001b[38;5;21;01mcolab\u001b[39;00m \u001b[38;5;28;01mimport\u001b[39;00m drive\n\u001b[0;32m      4\u001b[0m \u001b[38;5;28;01mfrom\u001b[39;00m \u001b[38;5;21;01mpydrive\u001b[39;00m\u001b[38;5;21;01m.\u001b[39;00m\u001b[38;5;21;01mdrive\u001b[39;00m \u001b[38;5;28;01mimport\u001b[39;00m GoogleDrive\n",
            "\u001b[1;31mModuleNotFoundError\u001b[0m: No module named 'pydrive'"
          ]
        }
      ],
      "source": [
        "# libraries for the files in google drive\n",
        "from pydrive.auth import GoogleAuth\n",
        "from google.colab import drive\n",
        "from pydrive.drive import GoogleDrive\n",
        "from google.colab import auth\n",
        "from oauth2client.client import GoogleCredentials"
      ]
    },
    {
      "cell_type": "code",
      "execution_count": null,
      "metadata": {
        "id": "dsgjpKe73MmK"
      },
      "outputs": [],
      "source": [
        "auth.authenticate_user()\n",
        "gauth = GoogleAuth()\n",
        "gauth.credentials = GoogleCredentials.get_application_default()\n",
        "drive = GoogleDrive(gauth)\n",
        "\n",
        "file_id_1 = '1lt4BnjaC7XGl0c7D1iowlY3KjglvwQas'\n",
        "\n",
        "download1 = drive.CreateFile({'id': file_id_1})\n",
        "\n",
        "# Download the file to a local disc\n",
        "download1.GetContentFile('data_file.csv')"
      ]
    },
    {
      "cell_type": "markdown",
      "metadata": {
        "id": "vQJl49AYy2NL"
      },
      "source": [
        "## Preprocessing and imports"
      ]
    },
    {
      "cell_type": "code",
      "execution_count": null,
      "metadata": {
        "id": "dYWLsyROSkCY"
      },
      "outputs": [],
      "source": [
        "import pandas as pd\n",
        "from sklearn.model_selection import train_test_split\n",
        "import warnings\n",
        "from sklearn.ensemble import RandomForestClassifier\n",
        "from sklearn.datasets import make_classification\n",
        "from sklearn.metrics import classification_report, confusion_matrix, accuracy_score, precision_score,recall_score, f1_score\n",
        "import matplotlib.pyplot as plt\n",
        "from mlxtend.plotting import plot_confusion_matrix\n",
        "from sklearn.tree import plot_tree\n",
        "from sklearn.model_selection import cross_val_score\n",
        "import joblib\n",
        "\n",
        "warnings.filterwarnings(action=\"ignore\")"
      ]
    },
    {
      "cell_type": "code",
      "execution_count": null,
      "metadata": {
        "colab": {
          "base_uri": "https://localhost:8080/",
          "height": 226
        },
        "id": "ZEViMunVSHD8",
        "outputId": "88096cc0-2733-4899-8114-c9d45bcf8978"
      },
      "outputs": [
        {
          "data": {
            "application/vnd.google.colaboratory.intrinsic+json": {
              "summary": "{\n  \"name\": \"df\",\n  \"rows\": 62485,\n  \"fields\": [\n    {\n      \"column\": \"Machine\",\n      \"properties\": {\n        \"dtype\": \"number\",\n        \"std\": 13345,\n        \"min\": 0,\n        \"max\": 43620,\n        \"num_unique_values\": 6,\n        \"samples\": [\n          332,\n          34404,\n          870\n        ],\n        \"semantic_type\": \"\",\n        \"description\": \"\"\n      }\n    },\n    {\n      \"column\": \"DebugSize\",\n      \"properties\": {\n        \"dtype\": \"number\",\n        \"std\": 6461396,\n        \"min\": 0,\n        \"max\": 1615155235,\n        \"num_unique_values\": 26,\n        \"samples\": [\n          30,\n          135,\n          0\n        ],\n        \"semantic_type\": \"\",\n        \"description\": \"\"\n      }\n    },\n    {\n      \"column\": \"DebugRVA\",\n      \"properties\": {\n        \"dtype\": \"number\",\n        \"std\": 1903142,\n        \"min\": 0,\n        \"max\": 285212672,\n        \"num_unique_values\": 10395,\n        \"samples\": [\n          58128,\n          1513844,\n          62740\n        ],\n        \"semantic_type\": \"\",\n        \"description\": \"\"\n      }\n    },\n    {\n      \"column\": \"MajorImageVersion\",\n      \"properties\": {\n        \"dtype\": \"number\",\n        \"std\": 1114,\n        \"min\": 0,\n        \"max\": 63325,\n        \"num_unique_values\": 49,\n        \"samples\": [\n          7,\n          217,\n          1233\n        ],\n        \"semantic_type\": \"\",\n        \"description\": \"\"\n      }\n    },\n    {\n      \"column\": \"MajorOSVersion\",\n      \"properties\": {\n        \"dtype\": \"number\",\n        \"std\": 2,\n        \"min\": 0,\n        \"max\": 260,\n        \"num_unique_values\": 17,\n        \"samples\": [\n          4,\n          10,\n          1\n        ],\n        \"semantic_type\": \"\",\n        \"description\": \"\"\n      }\n    },\n    {\n      \"column\": \"ExportRVA\",\n      \"properties\": {\n        \"dtype\": \"number\",\n        \"std\": 37795267,\n        \"min\": 0,\n        \"max\": 2147483648,\n        \"num_unique_values\": 11673,\n        \"samples\": [\n          30064,\n          18768,\n          56928\n        ],\n        \"semantic_type\": \"\",\n        \"description\": \"\"\n      }\n    },\n    {\n      \"column\": \"ExportSize\",\n      \"properties\": {\n        \"dtype\": \"number\",\n        \"std\": 28518203,\n        \"min\": 0,\n        \"max\": 2415919104,\n        \"num_unique_values\": 2885,\n        \"samples\": [\n          5696,\n          2736,\n          27524\n        ],\n        \"semantic_type\": \"\",\n        \"description\": \"\"\n      }\n    },\n    {\n      \"column\": \"IatVRA\",\n      \"properties\": {\n        \"dtype\": \"number\",\n        \"std\": 1124629,\n        \"min\": 0,\n        \"max\": 66154496,\n        \"num_unique_values\": 5727,\n        \"samples\": [\n          32168,\n          136184,\n          326056\n        ],\n        \"semantic_type\": \"\",\n        \"description\": \"\"\n      }\n    },\n    {\n      \"column\": \"MajorLinkerVersion\",\n      \"properties\": {\n        \"dtype\": \"number\",\n        \"std\": 9,\n        \"min\": 0,\n        \"max\": 255,\n        \"num_unique_values\": 89,\n        \"samples\": [\n          59,\n          93,\n          75\n        ],\n        \"semantic_type\": \"\",\n        \"description\": \"\"\n      }\n    },\n    {\n      \"column\": \"MinorLinkerVersion\",\n      \"properties\": {\n        \"dtype\": \"number\",\n        \"std\": 16,\n        \"min\": 0,\n        \"max\": 255,\n        \"num_unique_values\": 117,\n        \"samples\": [\n          7,\n          25,\n          13\n        ],\n        \"semantic_type\": \"\",\n        \"description\": \"\"\n      }\n    },\n    {\n      \"column\": \"NumberOfSections\",\n      \"properties\": {\n        \"dtype\": \"number\",\n        \"std\": 2,\n        \"min\": 1,\n        \"max\": 33,\n        \"num_unique_values\": 26,\n        \"samples\": [\n          9,\n          19,\n          3\n        ],\n        \"semantic_type\": \"\",\n        \"description\": \"\"\n      }\n    },\n    {\n      \"column\": \"SizeOfStackReserve\",\n      \"properties\": {\n        \"dtype\": \"number\",\n        \"std\": 628818,\n        \"min\": 0,\n        \"max\": 16777216,\n        \"num_unique_values\": 29,\n        \"samples\": [\n          32768,\n          204800,\n          10485760\n        ],\n        \"semantic_type\": \"\",\n        \"description\": \"\"\n      }\n    },\n    {\n      \"column\": \"DllCharacteristics\",\n      \"properties\": {\n        \"dtype\": \"number\",\n        \"std\": 15762,\n        \"min\": 0,\n        \"max\": 58632,\n        \"num_unique_values\": 86,\n        \"samples\": [\n          65,\n          34112,\n          4369\n        ],\n        \"semantic_type\": \"\",\n        \"description\": \"\"\n      }\n    },\n    {\n      \"column\": \"ResourceSize\",\n      \"properties\": {\n        \"dtype\": \"number\",\n        \"std\": 17326246,\n        \"min\": 0,\n        \"max\": 4294942044,\n        \"num_unique_values\": 9083,\n        \"samples\": [\n          23552,\n          154280,\n          5180\n        ],\n        \"semantic_type\": \"\",\n        \"description\": \"\"\n      }\n    },\n    {\n      \"column\": \"BitcoinAddresses\",\n      \"properties\": {\n        \"dtype\": \"number\",\n        \"std\": 0,\n        \"min\": 0,\n        \"max\": 1,\n        \"num_unique_values\": 2,\n        \"samples\": [\n          1,\n          0\n        ],\n        \"semantic_type\": \"\",\n        \"description\": \"\"\n      }\n    },\n    {\n      \"column\": \"Benign\",\n      \"properties\": {\n        \"dtype\": \"number\",\n        \"std\": 0,\n        \"min\": 0,\n        \"max\": 1,\n        \"num_unique_values\": 2,\n        \"samples\": [\n          0,\n          1\n        ],\n        \"semantic_type\": \"\",\n        \"description\": \"\"\n      }\n    }\n  ]\n}",
              "type": "dataframe",
              "variable_name": "df"
            },
            "text/html": [
              "\n",
              "  <div id=\"df-e855a859-a50e-4b96-84c9-713ab2296afa\" class=\"colab-df-container\">\n",
              "    <div>\n",
              "<style scoped>\n",
              "    .dataframe tbody tr th:only-of-type {\n",
              "        vertical-align: middle;\n",
              "    }\n",
              "\n",
              "    .dataframe tbody tr th {\n",
              "        vertical-align: top;\n",
              "    }\n",
              "\n",
              "    .dataframe thead th {\n",
              "        text-align: right;\n",
              "    }\n",
              "</style>\n",
              "<table border=\"1\" class=\"dataframe\">\n",
              "  <thead>\n",
              "    <tr style=\"text-align: right;\">\n",
              "      <th></th>\n",
              "      <th>Machine</th>\n",
              "      <th>DebugSize</th>\n",
              "      <th>DebugRVA</th>\n",
              "      <th>MajorImageVersion</th>\n",
              "      <th>MajorOSVersion</th>\n",
              "      <th>ExportRVA</th>\n",
              "      <th>ExportSize</th>\n",
              "      <th>IatVRA</th>\n",
              "      <th>MajorLinkerVersion</th>\n",
              "      <th>MinorLinkerVersion</th>\n",
              "      <th>NumberOfSections</th>\n",
              "      <th>SizeOfStackReserve</th>\n",
              "      <th>DllCharacteristics</th>\n",
              "      <th>ResourceSize</th>\n",
              "      <th>BitcoinAddresses</th>\n",
              "      <th>Benign</th>\n",
              "    </tr>\n",
              "  </thead>\n",
              "  <tbody>\n",
              "    <tr>\n",
              "      <th>0</th>\n",
              "      <td>332</td>\n",
              "      <td>0</td>\n",
              "      <td>0</td>\n",
              "      <td>0</td>\n",
              "      <td>4</td>\n",
              "      <td>0</td>\n",
              "      <td>0</td>\n",
              "      <td>8192</td>\n",
              "      <td>8</td>\n",
              "      <td>0</td>\n",
              "      <td>3</td>\n",
              "      <td>1048576</td>\n",
              "      <td>34112</td>\n",
              "      <td>672</td>\n",
              "      <td>0</td>\n",
              "      <td>1</td>\n",
              "    </tr>\n",
              "    <tr>\n",
              "      <th>1</th>\n",
              "      <td>34404</td>\n",
              "      <td>84</td>\n",
              "      <td>121728</td>\n",
              "      <td>10</td>\n",
              "      <td>10</td>\n",
              "      <td>126576</td>\n",
              "      <td>4930</td>\n",
              "      <td>0</td>\n",
              "      <td>14</td>\n",
              "      <td>10</td>\n",
              "      <td>8</td>\n",
              "      <td>262144</td>\n",
              "      <td>16864</td>\n",
              "      <td>1024</td>\n",
              "      <td>0</td>\n",
              "      <td>1</td>\n",
              "    </tr>\n",
              "    <tr>\n",
              "      <th>2</th>\n",
              "      <td>332</td>\n",
              "      <td>0</td>\n",
              "      <td>0</td>\n",
              "      <td>0</td>\n",
              "      <td>4</td>\n",
              "      <td>0</td>\n",
              "      <td>0</td>\n",
              "      <td>8192</td>\n",
              "      <td>8</td>\n",
              "      <td>0</td>\n",
              "      <td>3</td>\n",
              "      <td>1048576</td>\n",
              "      <td>34112</td>\n",
              "      <td>672</td>\n",
              "      <td>0</td>\n",
              "      <td>1</td>\n",
              "    </tr>\n",
              "    <tr>\n",
              "      <th>3</th>\n",
              "      <td>34404</td>\n",
              "      <td>84</td>\n",
              "      <td>19904</td>\n",
              "      <td>10</td>\n",
              "      <td>10</td>\n",
              "      <td>21312</td>\n",
              "      <td>252</td>\n",
              "      <td>18160</td>\n",
              "      <td>14</td>\n",
              "      <td>10</td>\n",
              "      <td>6</td>\n",
              "      <td>262144</td>\n",
              "      <td>16736</td>\n",
              "      <td>1040</td>\n",
              "      <td>0</td>\n",
              "      <td>1</td>\n",
              "    </tr>\n",
              "    <tr>\n",
              "      <th>4</th>\n",
              "      <td>34404</td>\n",
              "      <td>84</td>\n",
              "      <td>97728</td>\n",
              "      <td>10</td>\n",
              "      <td>10</td>\n",
              "      <td>105792</td>\n",
              "      <td>1852</td>\n",
              "      <td>70592</td>\n",
              "      <td>14</td>\n",
              "      <td>10</td>\n",
              "      <td>7</td>\n",
              "      <td>262144</td>\n",
              "      <td>16736</td>\n",
              "      <td>1096</td>\n",
              "      <td>0</td>\n",
              "      <td>1</td>\n",
              "    </tr>\n",
              "  </tbody>\n",
              "</table>\n",
              "</div>\n",
              "    <div class=\"colab-df-buttons\">\n",
              "\n",
              "  <div class=\"colab-df-container\">\n",
              "    <button class=\"colab-df-convert\" onclick=\"convertToInteractive('df-e855a859-a50e-4b96-84c9-713ab2296afa')\"\n",
              "            title=\"Convert this dataframe to an interactive table.\"\n",
              "            style=\"display:none;\">\n",
              "\n",
              "  <svg xmlns=\"http://www.w3.org/2000/svg\" height=\"24px\" viewBox=\"0 -960 960 960\">\n",
              "    <path d=\"M120-120v-720h720v720H120Zm60-500h600v-160H180v160Zm220 220h160v-160H400v160Zm0 220h160v-160H400v160ZM180-400h160v-160H180v160Zm440 0h160v-160H620v160ZM180-180h160v-160H180v160Zm440 0h160v-160H620v160Z\"/>\n",
              "  </svg>\n",
              "    </button>\n",
              "\n",
              "  <style>\n",
              "    .colab-df-container {\n",
              "      display:flex;\n",
              "      gap: 12px;\n",
              "    }\n",
              "\n",
              "    .colab-df-convert {\n",
              "      background-color: #E8F0FE;\n",
              "      border: none;\n",
              "      border-radius: 50%;\n",
              "      cursor: pointer;\n",
              "      display: none;\n",
              "      fill: #1967D2;\n",
              "      height: 32px;\n",
              "      padding: 0 0 0 0;\n",
              "      width: 32px;\n",
              "    }\n",
              "\n",
              "    .colab-df-convert:hover {\n",
              "      background-color: #E2EBFA;\n",
              "      box-shadow: 0px 1px 2px rgba(60, 64, 67, 0.3), 0px 1px 3px 1px rgba(60, 64, 67, 0.15);\n",
              "      fill: #174EA6;\n",
              "    }\n",
              "\n",
              "    .colab-df-buttons div {\n",
              "      margin-bottom: 4px;\n",
              "    }\n",
              "\n",
              "    [theme=dark] .colab-df-convert {\n",
              "      background-color: #3B4455;\n",
              "      fill: #D2E3FC;\n",
              "    }\n",
              "\n",
              "    [theme=dark] .colab-df-convert:hover {\n",
              "      background-color: #434B5C;\n",
              "      box-shadow: 0px 1px 3px 1px rgba(0, 0, 0, 0.15);\n",
              "      filter: drop-shadow(0px 1px 2px rgba(0, 0, 0, 0.3));\n",
              "      fill: #FFFFFF;\n",
              "    }\n",
              "  </style>\n",
              "\n",
              "    <script>\n",
              "      const buttonEl =\n",
              "        document.querySelector('#df-e855a859-a50e-4b96-84c9-713ab2296afa button.colab-df-convert');\n",
              "      buttonEl.style.display =\n",
              "        google.colab.kernel.accessAllowed ? 'block' : 'none';\n",
              "\n",
              "      async function convertToInteractive(key) {\n",
              "        const element = document.querySelector('#df-e855a859-a50e-4b96-84c9-713ab2296afa');\n",
              "        const dataTable =\n",
              "          await google.colab.kernel.invokeFunction('convertToInteractive',\n",
              "                                                    [key], {});\n",
              "        if (!dataTable) return;\n",
              "\n",
              "        const docLinkHtml = 'Like what you see? Visit the ' +\n",
              "          '<a target=\"_blank\" href=https://colab.research.google.com/notebooks/data_table.ipynb>data table notebook</a>'\n",
              "          + ' to learn more about interactive tables.';\n",
              "        element.innerHTML = '';\n",
              "        dataTable['output_type'] = 'display_data';\n",
              "        await google.colab.output.renderOutput(dataTable, element);\n",
              "        const docLink = document.createElement('div');\n",
              "        docLink.innerHTML = docLinkHtml;\n",
              "        element.appendChild(docLink);\n",
              "      }\n",
              "    </script>\n",
              "  </div>\n",
              "\n",
              "\n",
              "<div id=\"df-a1688141-3cda-4a87-b6b5-287de9d8a7e9\">\n",
              "  <button class=\"colab-df-quickchart\" onclick=\"quickchart('df-a1688141-3cda-4a87-b6b5-287de9d8a7e9')\"\n",
              "            title=\"Suggest charts\"\n",
              "            style=\"display:none;\">\n",
              "\n",
              "<svg xmlns=\"http://www.w3.org/2000/svg\" height=\"24px\"viewBox=\"0 0 24 24\"\n",
              "     width=\"24px\">\n",
              "    <g>\n",
              "        <path d=\"M19 3H5c-1.1 0-2 .9-2 2v14c0 1.1.9 2 2 2h14c1.1 0 2-.9 2-2V5c0-1.1-.9-2-2-2zM9 17H7v-7h2v7zm4 0h-2V7h2v10zm4 0h-2v-4h2v4z\"/>\n",
              "    </g>\n",
              "</svg>\n",
              "  </button>\n",
              "\n",
              "<style>\n",
              "  .colab-df-quickchart {\n",
              "      --bg-color: #E8F0FE;\n",
              "      --fill-color: #1967D2;\n",
              "      --hover-bg-color: #E2EBFA;\n",
              "      --hover-fill-color: #174EA6;\n",
              "      --disabled-fill-color: #AAA;\n",
              "      --disabled-bg-color: #DDD;\n",
              "  }\n",
              "\n",
              "  [theme=dark] .colab-df-quickchart {\n",
              "      --bg-color: #3B4455;\n",
              "      --fill-color: #D2E3FC;\n",
              "      --hover-bg-color: #434B5C;\n",
              "      --hover-fill-color: #FFFFFF;\n",
              "      --disabled-bg-color: #3B4455;\n",
              "      --disabled-fill-color: #666;\n",
              "  }\n",
              "\n",
              "  .colab-df-quickchart {\n",
              "    background-color: var(--bg-color);\n",
              "    border: none;\n",
              "    border-radius: 50%;\n",
              "    cursor: pointer;\n",
              "    display: none;\n",
              "    fill: var(--fill-color);\n",
              "    height: 32px;\n",
              "    padding: 0;\n",
              "    width: 32px;\n",
              "  }\n",
              "\n",
              "  .colab-df-quickchart:hover {\n",
              "    background-color: var(--hover-bg-color);\n",
              "    box-shadow: 0 1px 2px rgba(60, 64, 67, 0.3), 0 1px 3px 1px rgba(60, 64, 67, 0.15);\n",
              "    fill: var(--button-hover-fill-color);\n",
              "  }\n",
              "\n",
              "  .colab-df-quickchart-complete:disabled,\n",
              "  .colab-df-quickchart-complete:disabled:hover {\n",
              "    background-color: var(--disabled-bg-color);\n",
              "    fill: var(--disabled-fill-color);\n",
              "    box-shadow: none;\n",
              "  }\n",
              "\n",
              "  .colab-df-spinner {\n",
              "    border: 2px solid var(--fill-color);\n",
              "    border-color: transparent;\n",
              "    border-bottom-color: var(--fill-color);\n",
              "    animation:\n",
              "      spin 1s steps(1) infinite;\n",
              "  }\n",
              "\n",
              "  @keyframes spin {\n",
              "    0% {\n",
              "      border-color: transparent;\n",
              "      border-bottom-color: var(--fill-color);\n",
              "      border-left-color: var(--fill-color);\n",
              "    }\n",
              "    20% {\n",
              "      border-color: transparent;\n",
              "      border-left-color: var(--fill-color);\n",
              "      border-top-color: var(--fill-color);\n",
              "    }\n",
              "    30% {\n",
              "      border-color: transparent;\n",
              "      border-left-color: var(--fill-color);\n",
              "      border-top-color: var(--fill-color);\n",
              "      border-right-color: var(--fill-color);\n",
              "    }\n",
              "    40% {\n",
              "      border-color: transparent;\n",
              "      border-right-color: var(--fill-color);\n",
              "      border-top-color: var(--fill-color);\n",
              "    }\n",
              "    60% {\n",
              "      border-color: transparent;\n",
              "      border-right-color: var(--fill-color);\n",
              "    }\n",
              "    80% {\n",
              "      border-color: transparent;\n",
              "      border-right-color: var(--fill-color);\n",
              "      border-bottom-color: var(--fill-color);\n",
              "    }\n",
              "    90% {\n",
              "      border-color: transparent;\n",
              "      border-bottom-color: var(--fill-color);\n",
              "    }\n",
              "  }\n",
              "</style>\n",
              "\n",
              "  <script>\n",
              "    async function quickchart(key) {\n",
              "      const quickchartButtonEl =\n",
              "        document.querySelector('#' + key + ' button');\n",
              "      quickchartButtonEl.disabled = true;  // To prevent multiple clicks.\n",
              "      quickchartButtonEl.classList.add('colab-df-spinner');\n",
              "      try {\n",
              "        const charts = await google.colab.kernel.invokeFunction(\n",
              "            'suggestCharts', [key], {});\n",
              "      } catch (error) {\n",
              "        console.error('Error during call to suggestCharts:', error);\n",
              "      }\n",
              "      quickchartButtonEl.classList.remove('colab-df-spinner');\n",
              "      quickchartButtonEl.classList.add('colab-df-quickchart-complete');\n",
              "    }\n",
              "    (() => {\n",
              "      let quickchartButtonEl =\n",
              "        document.querySelector('#df-a1688141-3cda-4a87-b6b5-287de9d8a7e9 button');\n",
              "      quickchartButtonEl.style.display =\n",
              "        google.colab.kernel.accessAllowed ? 'block' : 'none';\n",
              "    })();\n",
              "  </script>\n",
              "</div>\n",
              "\n",
              "    </div>\n",
              "  </div>\n"
            ],
            "text/plain": [
              "   Machine  DebugSize  DebugRVA  MajorImageVersion  MajorOSVersion  ExportRVA  \\\n",
              "0      332          0         0                  0               4          0   \n",
              "1    34404         84    121728                 10              10     126576   \n",
              "2      332          0         0                  0               4          0   \n",
              "3    34404         84     19904                 10              10      21312   \n",
              "4    34404         84     97728                 10              10     105792   \n",
              "\n",
              "   ExportSize  IatVRA  MajorLinkerVersion  MinorLinkerVersion  \\\n",
              "0           0    8192                   8                   0   \n",
              "1        4930       0                  14                  10   \n",
              "2           0    8192                   8                   0   \n",
              "3         252   18160                  14                  10   \n",
              "4        1852   70592                  14                  10   \n",
              "\n",
              "   NumberOfSections  SizeOfStackReserve  DllCharacteristics  ResourceSize  \\\n",
              "0                 3             1048576               34112           672   \n",
              "1                 8              262144               16864          1024   \n",
              "2                 3             1048576               34112           672   \n",
              "3                 6              262144               16736          1040   \n",
              "4                 7              262144               16736          1096   \n",
              "\n",
              "   BitcoinAddresses  Benign  \n",
              "0                 0       1  \n",
              "1                 0       1  \n",
              "2                 0       1  \n",
              "3                 0       1  \n",
              "4                 0       1  "
            ]
          },
          "execution_count": 30,
          "metadata": {},
          "output_type": "execute_result"
        }
      ],
      "source": [
        "# Load the dataset\n",
        "df = pd.read_csv(\"/content/data_file.csv\")\n",
        "\n",
        "# Preprocess the data\n",
        "# Drop unnecessary columns\n",
        "df.drop(['FileName', 'md5Hash'], axis=1, inplace=True)\n",
        "df.head()"
      ]
    },
    {
      "cell_type": "code",
      "execution_count": null,
      "metadata": {
        "colab": {
          "base_uri": "https://localhost:8080/"
        },
        "id": "y8mXIh9gbowm",
        "outputId": "1c0532f7-1ac6-423d-9a23-b5193fdd244e"
      },
      "outputs": [
        {
          "name": "stdout",
          "output_type": "stream",
          "text": [
            "<class 'pandas.core.frame.DataFrame'>\n",
            "RangeIndex: 62485 entries, 0 to 62484\n",
            "Data columns (total 16 columns):\n",
            " #   Column              Non-Null Count  Dtype\n",
            "---  ------              --------------  -----\n",
            " 0   Machine             62485 non-null  int64\n",
            " 1   DebugSize           62485 non-null  int64\n",
            " 2   DebugRVA            62485 non-null  int64\n",
            " 3   MajorImageVersion   62485 non-null  int64\n",
            " 4   MajorOSVersion      62485 non-null  int64\n",
            " 5   ExportRVA           62485 non-null  int64\n",
            " 6   ExportSize          62485 non-null  int64\n",
            " 7   IatVRA              62485 non-null  int64\n",
            " 8   MajorLinkerVersion  62485 non-null  int64\n",
            " 9   MinorLinkerVersion  62485 non-null  int64\n",
            " 10  NumberOfSections    62485 non-null  int64\n",
            " 11  SizeOfStackReserve  62485 non-null  int64\n",
            " 12  DllCharacteristics  62485 non-null  int64\n",
            " 13  ResourceSize        62485 non-null  int64\n",
            " 14  BitcoinAddresses    62485 non-null  int64\n",
            " 15  Benign              62485 non-null  int64\n",
            "dtypes: int64(16)\n",
            "memory usage: 7.6 MB\n"
          ]
        }
      ],
      "source": [
        "df.info()"
      ]
    },
    {
      "cell_type": "code",
      "execution_count": null,
      "metadata": {
        "id": "v_cSjpjxbcUr"
      },
      "outputs": [],
      "source": [
        "# Convert categorical columns to numerical using one-hot encoding\n",
        "df = pd.get_dummies(df, columns=['Machine', 'MajorOSVersion', 'BitcoinAddresses'])\n",
        "\n",
        "# Split features and target\n",
        "X = df.drop('Benign', axis=1)\n",
        "y = df['Benign']"
      ]
    },
    {
      "cell_type": "code",
      "execution_count": null,
      "metadata": {
        "colab": {
          "base_uri": "https://localhost:8080/",
          "height": 521
        },
        "id": "NaHht4RsWQEi",
        "outputId": "cf19f1a7-00d0-40e0-95aa-563835a41c80"
      },
      "outputs": [
        {
          "data": {
            "image/png": "[encoded data removed]",
            "text/plain": [
              "<Figure size 800x600 with 1 Axes>"
            ]
          },
          "metadata": {},
          "output_type": "display_data"
        }
      ],
      "source": [
        "class_counts = df['Benign'].value_counts()\n",
        "\n",
        "# Plot the pie chart\n",
        "plt.figure(figsize=(8, 6))\n",
        "labels = ['Benign', 'Ransomware']\n",
        "colors = ['green', 'red']\n",
        "plt.pie(class_counts, labels=labels, autopct='%1.1f%%', startangle=140 ,colors=colors)\n",
        "plt.title('Distribution of Benign vs. Ransomware Files')\n",
        "plt.axis('equal')  # Equal aspect ratio ensures that pie is drawn as a circle.\n",
        "plt.show()"
      ]
    },
    {
      "cell_type": "markdown",
      "metadata": {
        "id": "vGH8pLCKZKtz"
      },
      "source": [
        "## Random Forest Classifier"
      ]
    },
    {
      "cell_type": "code",
      "execution_count": null,
      "metadata": {
        "colab": {
          "base_uri": "https://localhost:8080/"
        },
        "id": "Gbszuhu6ThJX",
        "outputId": "47e6d26f-8411-43d2-bf32-6017e9478c6c"
      },
      "outputs": [
        {
          "name": "stdout",
          "output_type": "stream",
          "text": [
            "Selected Features:\n",
            "Index(['DllCharacteristics', 'DebugSize', 'MajorLinkerVersion', 'DebugRVA',\n",
            "       'ResourceSize', 'Machine_34404', 'SizeOfStackReserve', 'Machine_332',\n",
            "       'NumberOfSections', 'IatVRA', 'MajorImageVersion', 'MajorOSVersion_6',\n",
            "       'MajorOSVersion_5', 'ExportSize', 'MajorOSVersion_10',\n",
            "       'MinorLinkerVersion', 'ExportRVA', 'MajorOSVersion_4',\n",
            "       'BitcoinAddresses_1', 'BitcoinAddresses_0', 'MajorOSVersion_13',\n",
            "       'MajorOSVersion_8', 'MajorOSVersion_9', 'MajorOSVersion_1',\n",
            "       'MajorOSVersion_7'],\n",
            "      dtype='object')\n",
            "Accuracy with Selected Features: 0.9971\n"
          ]
        }
      ],
      "source": [
        "# # Split dataset into features and target\n",
        "# X = df.iloc[:, 1:-1]\n",
        "# y = df.iloc[:, -1]\n",
        "\n",
        "# Generate random classification data\n",
        "# X, y = make_classification(n_samples=1000, n_features=15, n_classes=2, random_state=0)\n",
        "\n",
        "# Split data into training and testing sets\n",
        "X_train, X_test, y_train, y_test_rf = train_test_split(X, y, test_size=0.2, random_state=0)\n",
        "\n",
        "# Create a Random Forest Classifier with 100 trees\n",
        "rf = RandomForestClassifier(n_estimators=90, random_state=1)\n",
        "\n",
        "# Fit the Random Forest Classifier to the training data\n",
        "rf.fit(X_train, y_train)\n",
        "\n",
        "# Get feature importances\n",
        "feature_importances = rf.feature_importances_\n",
        "\n",
        "# Sort feature importances in descending order\n",
        "sorted_indices = feature_importances.argsort()[::-1]\n",
        "\n",
        "# Select top k features (e.g., top 5)\n",
        "top_k = 25\n",
        "selected_features_indices = sorted_indices[:top_k]\n",
        "\n",
        "# Concatenate selected features with the target variable\n",
        "selected_features_with_labels = pd.concat([X.iloc[:, selected_features_indices], y], axis=1)\n",
        "\n",
        "# Save the selected features data along with the correct class labels to a new CSV file\n",
        "selected_features_with_labels.to_csv('selected_features_data.csv', index=False)\n",
        "\n",
        "# Get the names of selected features\n",
        "selected_features = X.columns[selected_features_indices]\n",
        "\n",
        "# Print selected feature names\n",
        "print(\"Selected Features:\")\n",
        "print(selected_features)\n",
        "\n",
        "# Use selected features for training and testing\n",
        "X_train_selected = X_train.iloc[:, selected_features_indices]\n",
        "X_test_selected = X_test.iloc[:, selected_features_indices]\n",
        "\n",
        "# Fit the Random Forest Classifier with selected features\n",
        "rf.fit(X_train_selected, y_train)\n",
        "\n",
        "# Save the trained model to a file after training with selected features\n",
        "joblib.dump(rf, 'random_forest_model.pkl')\n",
        "\n",
        "# Predict the classes of the testing set with selected features\n",
        "y_pred_selected = rf.predict(X_test_selected)\n",
        "\n",
        "# Print the accuracy of the model with selected features\n",
        "accuracy_selected = rf.score(X_test_selected, y_test_rf)\n",
        "print(\"Accuracy with Selected Features:\", \"{:.4f}\".format(accuracy_selected))"
      ]
    },
    {
      "cell_type": "code",
      "execution_count": null,
      "metadata": {
        "colab": {
          "base_uri": "https://localhost:8080/",
          "height": 571
        },
        "id": "VTgRgrbEfm67",
        "outputId": "c0b8213b-27ea-4742-9969-e28cbd0c643c"
      },
      "outputs": [
        {
          "data": {
            "image/png": "[encoded data removed]",
            "text/plain": [
              "<Figure size 800x600 with 1 Axes>"
            ]
          },
          "metadata": {},
          "output_type": "display_data"
        }
      ],
      "source": [
        "from sklearn.metrics import precision_recall_curve\n",
        "\n",
        "# Get precision and recall values for different thresholds\n",
        "precision, recall, thresholds = precision_recall_curve(y_test_rf, rf.predict_proba(X_test_selected)[:, 1])\n",
        "\n",
        "# Plot Precision-Recall Curve\n",
        "plt.figure(figsize=(8, 6))\n",
        "plt.plot(recall, precision, label='Precision-Recall Curve', color='blue')\n",
        "plt.xlabel('Recall', fontsize=14)\n",
        "plt.ylabel('Precision', fontsize=14)\n",
        "plt.title('Precision-Recall Curve', fontsize=16)\n",
        "plt.legend(loc='best')\n",
        "plt.grid(True)\n",
        "plt.show()\n"
      ]
    },
    {
      "cell_type": "code",
      "execution_count": null,
      "metadata": {
        "colab": {
          "base_uri": "https://localhost:8080/",
          "height": 571
        },
        "id": "TNyyY3oQf17h",
        "outputId": "cbc9e247-5d84-4937-9c1e-4c70ec4fc8ab"
      },
      "outputs": [
        {
          "data": {
            "image/png": "[encoded data removed]",
            "text/plain": [
              "<Figure size 800x600 with 1 Axes>"
            ]
          },
          "metadata": {},
          "output_type": "display_data"
        }
      ],
      "source": [
        "# Calculate F1-score\n",
        "f1_scores = 2 * (precision * recall) / (precision + recall)\n",
        "\n",
        "# Plot F1-score vs Threshold\n",
        "plt.figure(figsize=(8, 6))\n",
        "plt.plot(thresholds, f1_scores[:-1], label='F1-score', color='green')\n",
        "plt.xlabel('Threshold', fontsize=14)\n",
        "plt.ylabel('F1-score', fontsize=14)\n",
        "plt.title('F1-score vs Threshold', fontsize=16)\n",
        "plt.legend(loc='best')\n",
        "plt.grid(True)\n",
        "plt.show()\n"
      ]
    },
    {
      "cell_type": "code",
      "execution_count": null,
      "metadata": {
        "colab": {
          "base_uri": "https://localhost:8080/",
          "height": 822
        },
        "id": "915O48iXUMbx",
        "outputId": "bdca566a-c227-4f2e-8ccf-5e5792b03938"
      },
      "outputs": [
        {
          "name": "stdout",
          "output_type": "stream",
          "text": [
            "Confusion Matrix:\n",
            "[[7096   11]\n",
            " [  25 5365]]\n",
            "\n",
            " Classification Report:\n",
            "              precision    recall  f1-score   support\n",
            "\n",
            "           0       1.00      1.00      1.00      7107\n",
            "           1       1.00      1.00      1.00      5390\n",
            "\n",
            "    accuracy                           1.00     12497\n",
            "   macro avg       1.00      1.00      1.00     12497\n",
            "weighted avg       1.00      1.00      1.00     12497\n",
            "\n"
          ]
        },
        {
          "data": {
            "image/png": "[encoded data removed]",
            "text/plain": [
              "<Figure size 600x600 with 1 Axes>"
            ]
          },
          "metadata": {},
          "output_type": "display_data"
        }
      ],
      "source": [
        "# Use the model to predict the classes of the testing set\n",
        "y_pred = rf.predict(X_test_selected)\n",
        "\n",
        "# Print the confusion matrix and classification report\n",
        "print(\"Confusion Matrix:\")\n",
        "cm=confusion_matrix(y_test_rf, y_pred)\n",
        "print(cm)\n",
        "\n",
        "print(\"\\n Classification Report:\")\n",
        "classr=classification_report(y_test_rf, y_pred,digits=4)\n",
        "print(classification_report(y_test_rf, y_pred))\n",
        "fig, ax = plot_confusion_matrix(conf_mat=cm , figsize=(6, 6), cmap=plt.cm.Greens)\n",
        "plt.xlabel('Predictions', fontsize=18)\n",
        "plt.ylabel('Actuals', fontsize=18)\n",
        "plt.title('Confusion Matrix', fontsize=18)\n",
        "plt.show()"
      ]
    },
    {
      "cell_type": "code",
      "execution_count": null,
      "metadata": {
        "colab": {
          "base_uri": "https://localhost:8080/"
        },
        "id": "VMntdY6wVaUk",
        "outputId": "7605a589-7df9-4b08-dd0d-f1b5bb72371b"
      },
      "outputs": [
        {
          "name": "stdout",
          "output_type": "stream",
          "text": [
            "Cross-Validation Scores: [0.9943991  0.99487918 0.99503921 0.99727956 0.99695951 0.99551857\n",
            " 0.99535851 0.99743918 0.99631882 0.99663892]\n",
            "Mean Cross-Validation Score: 0.9959830576733507\n"
          ]
        }
      ],
      "source": [
        "# Perform cross-validation with 10 folds\n",
        "scores = cross_val_score(rf, X, y, cv=10)\n",
        "\n",
        "# Print the cross-validation scores\n",
        "print(\"Cross-Validation Scores:\", scores)\n",
        "\n",
        "# Print the mean cross-validation score\n",
        "print(\"Mean Cross-Validation Score:\", scores.mean())\n"
      ]
    },
    {
      "cell_type": "markdown",
      "metadata": {
        "id": "R9yuhH7LzGKh"
      },
      "source": [
        "## XGBoost classifier"
      ]
    },
    {
      "cell_type": "code",
      "execution_count": null,
      "metadata": {
        "colab": {
          "base_uri": "https://localhost:8080/"
        },
        "id": "kjVzIbGnYdeS",
        "outputId": "1fa57c5a-3430-4b55-f3d4-7cfd8603c5a3"
      },
      "outputs": [
        {
          "name": "stdout",
          "output_type": "stream",
          "text": [
            "Accuracy: 0.9961\n"
          ]
        }
      ],
      "source": [
        "import pandas as pd\n",
        "from sklearn.model_selection import train_test_split\n",
        "from xgboost import XGBClassifier\n",
        "from sklearn.metrics import accuracy_score\n",
        "import joblib\n",
        "\n",
        "# Load the dataset\n",
        "df = pd.read_csv(\"/content/data_file.csv\")\n",
        "\n",
        "# Preprocess the data\n",
        "# Drop unnecessary columns\n",
        "df.drop(['FileName', 'md5Hash'], axis=1, inplace=True)\n",
        "\n",
        "# Convert categorical columns to numerical using one-hot encoding\n",
        "df = pd.get_dummies(df, columns=['Machine', 'MajorOSVersion', 'BitcoinAddresses'])\n",
        "\n",
        "# Split features and target\n",
        "X = df.drop('Benign', axis=1)\n",
        "y = df['Benign']\n",
        "\n",
        "# Split data into training and testing sets\n",
        "X_train, X_test, y_train, y_test = train_test_split(X, y, test_size=0.3, random_state=0)\n",
        "\n",
        "# Create XGBoost classifier\n",
        "xgb_model = XGBClassifier()\n",
        "\n",
        "# Fit XGBoost classifier to the training data\n",
        "xgb_model.fit(X_train, y_train)\n",
        "\n",
        "# Predict the classes of the testing set\n",
        "y_pred = xgb_model.predict(X_test)\n",
        "\n",
        "# Save the trained model to a file\n",
        "joblib.dump(xgb_model, 'xgboost_model.pkl')\n",
        "\n",
        "# Evaluate the accuracy of the model\n",
        "accuracy = accuracy_score(y_test, y_pred)\n",
        "print(\"Accuracy:\", \"{:.4f}\".format(accuracy))\n",
        "\n"
      ]
    },
    {
      "cell_type": "code",
      "execution_count": null,
      "metadata": {
        "colab": {
          "base_uri": "https://localhost:8080/",
          "height": 472
        },
        "id": "OoKNyKmviva3",
        "outputId": "a9e0927b-61a0-44f5-ae4d-ee450f20404b"
      },
      "outputs": [
        {
          "data": {
            "image/png": "[encoded data removed]",
            "text/plain": [
              "<Figure size 640x480 with 1 Axes>"
            ]
          },
          "metadata": {},
          "output_type": "display_data"
        }
      ],
      "source": [
        "from sklearn.metrics import precision_recall_curve\n",
        "import matplotlib.pyplot as plt\n",
        "\n",
        "# Get the precision and recall values\n",
        "precision, recall, _ = precision_recall_curve(y_test, y_pred)\n",
        "\n",
        "# Plot the precision-recall curve\n",
        "plt.plot(recall, precision, marker='.')\n",
        "plt.xlabel('Recall')\n",
        "plt.ylabel('Precision')\n",
        "plt.title('Precision-Recall Curve')\n",
        "plt.show()\n"
      ]
    },
    {
      "cell_type": "code",
      "execution_count": null,
      "metadata": {
        "colab": {
          "base_uri": "https://localhost:8080/",
          "height": 571
        },
        "id": "vItJ9TQ9jAYe",
        "outputId": "ad65818f-8c50-4ade-d180-e33fa3b8e7d3"
      },
      "outputs": [
        {
          "data": {
            "image/png": "[encoded data removed]",
            "text/plain": [
              "<Figure size 800x600 with 1 Axes>"
            ]
          },
          "metadata": {},
          "output_type": "display_data"
        }
      ],
      "source": [
        "from sklearn.metrics import precision_recall_curve\n",
        "import matplotlib.pyplot as plt\n",
        "\n",
        "# Get precision, recall, and thresholds\n",
        "precision, recall, thresholds = precision_recall_curve(y_test, xgb_model.predict_proba(X_test)[:, 1])\n",
        "f1_scores = 2 * (precision * recall) / (precision + recall)\n",
        "\n",
        "# Plot F1-score vs Threshold\n",
        "plt.figure(figsize=(8, 6))\n",
        "plt.plot(thresholds, f1_scores[:-1], label='F1-score', color='green')\n",
        "plt.xlabel('Threshold', fontsize=14)\n",
        "plt.ylabel('F1-score', fontsize=14)\n",
        "plt.title('F1-score vs Threshold', fontsize=16)\n",
        "plt.legend(loc='best')\n",
        "plt.grid(True)\n",
        "plt.show()\n"
      ]
    },
    {
      "cell_type": "code",
      "execution_count": null,
      "metadata": {
        "colab": {
          "base_uri": "https://localhost:8080/",
          "height": 839
        },
        "id": "dhUVrRjOZX3x",
        "outputId": "5bfebc53-aad0-43b6-e820-570a92424e0c"
      },
      "outputs": [
        {
          "name": "stdout",
          "output_type": "stream",
          "text": [
            "Accuracy: 0.9961058359116611\n",
            "Confusion Matrix:\n",
            "[[10628    33]\n",
            " [   40  8045]]\n",
            "\n",
            "Classification Report:\n",
            "              precision    recall  f1-score   support\n",
            "\n",
            "           0       1.00      1.00      1.00     10661\n",
            "           1       1.00      1.00      1.00      8085\n",
            "\n",
            "    accuracy                           1.00     18746\n",
            "   macro avg       1.00      1.00      1.00     18746\n",
            "weighted avg       1.00      1.00      1.00     18746\n",
            "\n"
          ]
        },
        {
          "data": {
            "image/png": "[encoded data removed]",
            "text/plain": [
              "<Figure size 600x600 with 1 Axes>"
            ]
          },
          "metadata": {},
          "output_type": "display_data"
        }
      ],
      "source": [
        "# Calculate accuracy\n",
        "accuracyx = accuracy_score(y_test, y_pred)\n",
        "print(\"Accuracy:\", accuracyx)\n",
        "\n",
        "# Print the confusion matrix and classification report\n",
        "print(\"Confusion Matrix:\")\n",
        "cmx = confusion_matrix(y_test, y_pred)\n",
        "print(cmx)\n",
        "\n",
        "classx=classification_report(y_test, y_pred,digits=5)\n",
        "print(\"\\nClassification Report:\")\n",
        "print(classification_report(y_test, y_pred))\n",
        "\n",
        "# Plot confusion matrix\n",
        "fig, ax = plot_confusion_matrix(conf_mat=cm, figsize=(6, 6), cmap=plt.cm.Greens)\n",
        "plt.xlabel('Predictions', fontsize=18)\n",
        "plt.ylabel('Actuals', fontsize=18)\n",
        "plt.title('Confusion Matrix', fontsize=18)\n",
        "plt.show()"
      ]
    },
    {
      "cell_type": "code",
      "execution_count": null,
      "metadata": {
        "colab": {
          "base_uri": "https://localhost:8080/"
        },
        "id": "TTC_c2w-ZhV4",
        "outputId": "b791293e-a4dc-46d1-acd6-d86284c43c01"
      },
      "outputs": [
        {
          "name": "stdout",
          "output_type": "stream",
          "text": [
            "Cross-Validation Scores: [0.9943991  0.993759   0.99551928 0.99743959 0.99599936 0.99519846\n",
            " 0.99535851 0.99871959 0.99631882 0.99647887]\n",
            "Mean Cross-Validation Score: 0.9959190602378583\n"
          ]
        }
      ],
      "source": [
        "import numpy as np\n",
        "\n",
        "# Define selected features\n",
        "selected_features = X.columns.tolist()  # Use all features for now\n",
        "\n",
        "# Perform cross-validation with 10 folds\n",
        "scoresx = cross_val_score(xgb_model, X[selected_features], y, cv=10)\n",
        "\n",
        "# Print the cross-validation scores\n",
        "print(\"Cross-Validation Scores:\", scoresx)\n",
        "\n",
        "# Print the mean cross-validation score\n",
        "print(\"Mean Cross-Validation Score:\", np.mean(scoresx))\n"
      ]
    },
    {
      "cell_type": "markdown",
      "metadata": {
        "id": "NkaIlSCMzS4f"
      },
      "source": [
        "## Comparison of RandomForest and XGBoost classifier"
      ]
    },
    {
      "cell_type": "code",
      "execution_count": null,
      "metadata": {
        "colab": {
          "base_uri": "https://localhost:8080/",
          "height": 640
        },
        "id": "n02chpIa_Ljf",
        "outputId": "653a2cb2-29ea-4e07-a062-958b9a70ea8a"
      },
      "outputs": [
        {
          "name": "stdout",
          "output_type": "stream",
          "text": [
            "Comparison of Metrics:\n",
            "                Algorithm  Accuracy  Precision    Recall  F1-score\n",
            "0  RandomForestClassifier  0.997119   0.997954  0.995362  0.996656\n",
            "1           XGBClassifier  0.996106   0.995915  0.995053  0.995484\n"
          ]
        },
        {
          "data": {
            "image/png": "[encoded data removed]",
            "text/plain": [
              "<Figure size 1000x600 with 1 Axes>"
            ]
          },
          "metadata": {},
          "output_type": "display_data"
        }
      ],
      "source": [
        "import pandas as pd\n",
        "import numpy as np\n",
        "import matplotlib.pyplot as plt\n",
        "from sklearn.metrics import accuracy_score, precision_score, recall_score, f1_score\n",
        "\n",
        "# Data for RandomForestClassifier\n",
        "rf_accuracy = accuracy_selected\n",
        "rf_precision = precision_score(y_test_rf, y_pred_selected)\n",
        "rf_recall = recall_score(y_test_rf, y_pred_selected)\n",
        "rf_f1 = f1_score(y_test_rf, y_pred_selected)\n",
        "\n",
        "# Predict the classes of the testing set with XGBClassifier\n",
        "y_pred_xgb = xgb_model.predict(X_test)\n",
        "\n",
        "# Calculate metrics for XGBClassifier\n",
        "xgb_accuracy = accuracy_score(y_test, y_pred_xgb)\n",
        "xgb_precision = precision_score(y_test, y_pred_xgb)\n",
        "xgb_recall = recall_score(y_test, y_pred_xgb)\n",
        "xgb_f1 = f1_score(y_test, y_pred_xgb)\n",
        "\n",
        "# Creating a DataFrame to compare metrics\n",
        "data = {\n",
        "    'Algorithm': ['RandomForestClassifier', 'XGBClassifier'],\n",
        "    'Accuracy': [rf_accuracy, xgb_accuracy],\n",
        "    'Precision': [rf_precision, xgb_precision],\n",
        "    'Recall': [rf_recall, xgb_recall],\n",
        "    'F1-score': [rf_f1, xgb_f1]\n",
        "}\n",
        "\n",
        "metrics_df = pd.DataFrame(data)\n",
        "\n",
        "# Displaying the comparison table\n",
        "print(\"Comparison of Metrics:\")\n",
        "print(metrics_df)\n",
        "\n",
        "# Creating a bar graph\n",
        "labels = ['Accuracy', 'Precision', 'Recall', 'F1-score']\n",
        "rf_metrics = [rf_accuracy, rf_precision, rf_recall, rf_f1]\n",
        "xgb_metrics = [xgb_accuracy, xgb_precision, xgb_recall, xgb_f1]\n",
        "\n",
        "x = np.arange(len(labels))  # the label locations\n",
        "width = 0.35  # the width of the bars\n",
        "\n",
        "fig, ax = plt.subplots(figsize=(10, 6))\n",
        "ax.set_ylim(0.99, 1.0)\n",
        "rects1 = ax.bar(x - width/2, rf_metrics, width, label='RandomForestClassifier', color='blue')\n",
        "rects2 = ax.bar(x + width/2, xgb_metrics, width, label='XGBClassifier', color='orange')\n",
        "\n",
        "# Add some text for labels, title and custom x-axis tick labels, etc.\n",
        "ax.set_xlabel('Metrics', fontsize=14)\n",
        "ax.set_ylabel('Scores', fontsize=14)\n",
        "ax.set_title('Comparison of Metrics by Algorithm', fontsize=16)\n",
        "ax.set_xticks(x)\n",
        "ax.set_xticklabels(labels)\n",
        "ax.legend()\n",
        "\n",
        "plt.show()\n"
      ]
    },
    {
      "cell_type": "markdown",
      "metadata": {
        "id": "Ju1EECUBzdE1"
      },
      "source": [
        "## Artificial Neural Network classifier"
      ]
    },
    {
      "cell_type": "code",
      "execution_count": null,
      "metadata": {
        "colab": {
          "base_uri": "https://localhost:8080/",
          "height": 1000
        },
        "id": "WO6shQlMhktf",
        "outputId": "4946876a-7bee-4ec6-8b9f-c24189a5c22a"
      },
      "outputs": [
        {
          "name": "stdout",
          "output_type": "stream",
          "text": [
            "Epoch 1/200\n",
            "1250/1250 [==============================] - 7s 4ms/step - loss: 0.2622 - accuracy: 0.9072 - val_loss: 0.1404 - val_accuracy: 0.9557\n",
            "Epoch 2/200\n",
            "1250/1250 [==============================] - 3s 3ms/step - loss: 0.1605 - accuracy: 0.9500 - val_loss: 0.1027 - val_accuracy: 0.9683\n",
            "Epoch 3/200\n",
            "1250/1250 [==============================] - 3s 2ms/step - loss: 0.1296 - accuracy: 0.9609 - val_loss: 0.0905 - val_accuracy: 0.9732\n",
            "Epoch 4/200\n",
            "1250/1250 [==============================] - 3s 2ms/step - loss: 0.1209 - accuracy: 0.9647 - val_loss: 0.0858 - val_accuracy: 0.9749\n",
            "Epoch 5/200\n",
            "1250/1250 [==============================] - 3s 3ms/step - loss: 0.1131 - accuracy: 0.9680 - val_loss: 0.0808 - val_accuracy: 0.9787\n",
            "Epoch 6/200\n",
            "1250/1250 [==============================] - 3s 3ms/step - loss: 0.1047 - accuracy: 0.9702 - val_loss: 0.0785 - val_accuracy: 0.9779\n",
            "Epoch 7/200\n",
            "1250/1250 [==============================] - 3s 2ms/step - loss: 0.1027 - accuracy: 0.9710 - val_loss: 0.0758 - val_accuracy: 0.9785\n",
            "Epoch 8/200\n",
            "1250/1250 [==============================] - 3s 2ms/step - loss: 0.0998 - accuracy: 0.9716 - val_loss: 0.0742 - val_accuracy: 0.9795\n",
            "Epoch 9/200\n",
            "1250/1250 [==============================] - 3s 3ms/step - loss: 0.0963 - accuracy: 0.9729 - val_loss: 0.0716 - val_accuracy: 0.9811\n",
            "Epoch 10/200\n",
            "1250/1250 [==============================] - 4s 4ms/step - loss: 0.0966 - accuracy: 0.9734 - val_loss: 0.0758 - val_accuracy: 0.9772\n",
            "Epoch 11/200\n",
            "1250/1250 [==============================] - 5s 4ms/step - loss: 0.0946 - accuracy: 0.9742 - val_loss: 0.0691 - val_accuracy: 0.9822\n",
            "Epoch 12/200\n",
            "1250/1250 [==============================] - 3s 2ms/step - loss: 0.0924 - accuracy: 0.9745 - val_loss: 0.0693 - val_accuracy: 0.9806\n",
            "Epoch 13/200\n",
            "1250/1250 [==============================] - 3s 3ms/step - loss: 0.0914 - accuracy: 0.9749 - val_loss: 0.0681 - val_accuracy: 0.9808\n",
            "Epoch 14/200\n",
            "1250/1250 [==============================] - 3s 2ms/step - loss: 0.0888 - accuracy: 0.9752 - val_loss: 0.0690 - val_accuracy: 0.9823\n",
            "Epoch 15/200\n",
            "1250/1250 [==============================] - 3s 2ms/step - loss: 0.0891 - accuracy: 0.9755 - val_loss: 0.0661 - val_accuracy: 0.9816\n",
            "Epoch 16/200\n",
            "1250/1250 [==============================] - 3s 2ms/step - loss: 0.0863 - accuracy: 0.9764 - val_loss: 0.0675 - val_accuracy: 0.9801\n",
            "Epoch 17/200\n",
            "1250/1250 [==============================] - 4s 3ms/step - loss: 0.0870 - accuracy: 0.9761 - val_loss: 0.0656 - val_accuracy: 0.9823\n",
            "Epoch 18/200\n",
            "1250/1250 [==============================] - 3s 2ms/step - loss: 0.0867 - accuracy: 0.9768 - val_loss: 0.0641 - val_accuracy: 0.9837\n",
            "Epoch 19/200\n",
            "1250/1250 [==============================] - 3s 2ms/step - loss: 0.0840 - accuracy: 0.9775 - val_loss: 0.0633 - val_accuracy: 0.9818\n",
            "Epoch 20/200\n",
            "1250/1250 [==============================] - 3s 2ms/step - loss: 0.0833 - accuracy: 0.9775 - val_loss: 0.0639 - val_accuracy: 0.9835\n",
            "Epoch 21/200\n",
            "1250/1250 [==============================] - 4s 3ms/step - loss: 0.0894 - accuracy: 0.9773 - val_loss: 0.0664 - val_accuracy: 0.9832\n",
            "Epoch 22/200\n",
            "1250/1250 [==============================] - 3s 2ms/step - loss: 0.0829 - accuracy: 0.9771 - val_loss: 0.0625 - val_accuracy: 0.9834\n",
            "Epoch 23/200\n",
            "1250/1250 [==============================] - 3s 2ms/step - loss: 0.0819 - accuracy: 0.9772 - val_loss: 0.0639 - val_accuracy: 0.9832\n",
            "Epoch 24/200\n",
            "1250/1250 [==============================] - 4s 3ms/step - loss: 0.0815 - accuracy: 0.9782 - val_loss: 0.0614 - val_accuracy: 0.9840\n",
            "Epoch 25/200\n",
            "1250/1250 [==============================] - 4s 3ms/step - loss: 0.0819 - accuracy: 0.9774 - val_loss: 0.0608 - val_accuracy: 0.9835\n",
            "Epoch 26/200\n",
            "1250/1250 [==============================] - 3s 2ms/step - loss: 0.0821 - accuracy: 0.9784 - val_loss: 0.0617 - val_accuracy: 0.9834\n",
            "Epoch 27/200\n",
            "1250/1250 [==============================] - 3s 2ms/step - loss: 0.0812 - accuracy: 0.9781 - val_loss: 0.0596 - val_accuracy: 0.9836\n",
            "Epoch 28/200\n",
            "1250/1250 [==============================] - 3s 2ms/step - loss: 0.0812 - accuracy: 0.9786 - val_loss: 0.0602 - val_accuracy: 0.9837\n",
            "Epoch 29/200\n",
            "1250/1250 [==============================] - 4s 3ms/step - loss: 0.0787 - accuracy: 0.9780 - val_loss: 0.0597 - val_accuracy: 0.9840\n",
            "Epoch 30/200\n",
            "1250/1250 [==============================] - 3s 2ms/step - loss: 0.0794 - accuracy: 0.9790 - val_loss: 0.0617 - val_accuracy: 0.9834\n",
            "Epoch 31/200\n",
            "1250/1250 [==============================] - 3s 2ms/step - loss: 0.0762 - accuracy: 0.9790 - val_loss: 0.0607 - val_accuracy: 0.9838\n",
            "Epoch 32/200\n",
            "1250/1250 [==============================] - 3s 2ms/step - loss: 0.0752 - accuracy: 0.9789 - val_loss: 0.0616 - val_accuracy: 0.9834\n",
            "Epoch 33/200\n",
            "1250/1250 [==============================] - 4s 3ms/step - loss: 0.0784 - accuracy: 0.9783 - val_loss: 0.0594 - val_accuracy: 0.9836\n",
            "Epoch 34/200\n",
            "1250/1250 [==============================] - 3s 2ms/step - loss: 0.0768 - accuracy: 0.9793 - val_loss: 0.0602 - val_accuracy: 0.9838\n",
            "Epoch 35/200\n",
            "1250/1250 [==============================] - 3s 2ms/step - loss: 0.0794 - accuracy: 0.9790 - val_loss: 0.0578 - val_accuracy: 0.9843\n",
            "Epoch 36/200\n",
            "1250/1250 [==============================] - 3s 3ms/step - loss: 0.0770 - accuracy: 0.9794 - val_loss: 0.0601 - val_accuracy: 0.9837\n",
            "Epoch 37/200\n",
            "1250/1250 [==============================] - 3s 3ms/step - loss: 0.0775 - accuracy: 0.9792 - val_loss: 0.0579 - val_accuracy: 0.9838\n",
            "Epoch 38/200\n",
            "1250/1250 [==============================] - 3s 2ms/step - loss: 0.0798 - accuracy: 0.9791 - val_loss: 0.0594 - val_accuracy: 0.9835\n",
            "Epoch 39/200\n",
            "1250/1250 [==============================] - 4s 3ms/step - loss: 0.0781 - accuracy: 0.9794 - val_loss: 0.0587 - val_accuracy: 0.9840\n",
            "Epoch 40/200\n",
            "1250/1250 [==============================] - 7s 5ms/step - loss: 0.0777 - accuracy: 0.9791 - val_loss: 0.0573 - val_accuracy: 0.9834\n",
            "Epoch 41/200\n",
            "1250/1250 [==============================] - 7s 6ms/step - loss: 0.0759 - accuracy: 0.9795 - val_loss: 0.0569 - val_accuracy: 0.9841\n",
            "Epoch 42/200\n",
            "1250/1250 [==============================] - 7s 6ms/step - loss: 0.0745 - accuracy: 0.9795 - val_loss: 0.0595 - val_accuracy: 0.9835\n",
            "Epoch 43/200\n",
            "1250/1250 [==============================] - 5s 4ms/step - loss: 0.0760 - accuracy: 0.9796 - val_loss: 0.0569 - val_accuracy: 0.9839\n",
            "Epoch 44/200\n",
            "1250/1250 [==============================] - 8s 6ms/step - loss: 0.0746 - accuracy: 0.9793 - val_loss: 0.0571 - val_accuracy: 0.9841\n",
            "Epoch 45/200\n",
            "1250/1250 [==============================] - 4s 4ms/step - loss: 0.0743 - accuracy: 0.9806 - val_loss: 0.0564 - val_accuracy: 0.9838\n",
            "Epoch 46/200\n",
            "1250/1250 [==============================] - 3s 2ms/step - loss: 0.0725 - accuracy: 0.9805 - val_loss: 0.0563 - val_accuracy: 0.9843\n",
            "Epoch 47/200\n",
            "1250/1250 [==============================] - 4s 3ms/step - loss: 0.0739 - accuracy: 0.9801 - val_loss: 0.0572 - val_accuracy: 0.9836\n",
            "Epoch 48/200\n",
            "1250/1250 [==============================] - 3s 3ms/step - loss: 0.0742 - accuracy: 0.9793 - val_loss: 0.0565 - val_accuracy: 0.9842\n",
            "Epoch 49/200\n",
            "1250/1250 [==============================] - 3s 2ms/step - loss: 0.0754 - accuracy: 0.9798 - val_loss: 0.0574 - val_accuracy: 0.9835\n",
            "Epoch 50/200\n",
            "1250/1250 [==============================] - 3s 2ms/step - loss: 0.0734 - accuracy: 0.9808 - val_loss: 0.0571 - val_accuracy: 0.9836\n",
            "Epoch 51/200\n",
            "1250/1250 [==============================] - 4s 3ms/step - loss: 0.0731 - accuracy: 0.9801 - val_loss: 0.0562 - val_accuracy: 0.9841\n",
            "Epoch 52/200\n",
            "1250/1250 [==============================] - 3s 3ms/step - loss: 0.0748 - accuracy: 0.9803 - val_loss: 0.0554 - val_accuracy: 0.9838\n",
            "Epoch 53/200\n",
            "1250/1250 [==============================] - 3s 2ms/step - loss: 0.0784 - accuracy: 0.9800 - val_loss: 0.0566 - val_accuracy: 0.9838\n",
            "Epoch 54/200\n",
            "1250/1250 [==============================] - 3s 2ms/step - loss: 0.0706 - accuracy: 0.9804 - val_loss: 0.0578 - val_accuracy: 0.9842\n",
            "Epoch 55/200\n",
            "1250/1250 [==============================] - 4s 3ms/step - loss: 0.0737 - accuracy: 0.9792 - val_loss: 0.0591 - val_accuracy: 0.9832\n",
            "Epoch 56/200\n",
            "1250/1250 [==============================] - 3s 2ms/step - loss: 0.0709 - accuracy: 0.9803 - val_loss: 0.0558 - val_accuracy: 0.9845\n",
            "Epoch 57/200\n",
            "1250/1250 [==============================] - 3s 2ms/step - loss: 0.0743 - accuracy: 0.9795 - val_loss: 0.0564 - val_accuracy: 0.9842\n",
            "Epoch 58/200\n",
            "1250/1250 [==============================] - 3s 2ms/step - loss: 0.0797 - accuracy: 0.9803 - val_loss: 0.0579 - val_accuracy: 0.9841\n",
            "Epoch 59/200\n",
            "1250/1250 [==============================] - 4s 3ms/step - loss: 0.0737 - accuracy: 0.9804 - val_loss: 0.0568 - val_accuracy: 0.9847\n",
            "Epoch 60/200\n",
            "1250/1250 [==============================] - 3s 2ms/step - loss: 0.0743 - accuracy: 0.9794 - val_loss: 0.0559 - val_accuracy: 0.9836\n",
            "Epoch 61/200\n",
            "1250/1250 [==============================] - 3s 2ms/step - loss: 0.0742 - accuracy: 0.9797 - val_loss: 0.0568 - val_accuracy: 0.9847\n",
            "Epoch 62/200\n",
            "1250/1250 [==============================] - 3s 3ms/step - loss: 0.0721 - accuracy: 0.9805 - val_loss: 0.0567 - val_accuracy: 0.9835\n",
            "Epoch 63/200\n",
            "1250/1250 [==============================] - 5s 4ms/step - loss: 0.0732 - accuracy: 0.9796 - val_loss: 0.0563 - val_accuracy: 0.9834\n",
            "Epoch 64/200\n",
            "1250/1250 [==============================] - 5s 4ms/step - loss: 0.0721 - accuracy: 0.9803 - val_loss: 0.0568 - val_accuracy: 0.9840\n",
            "Epoch 65/200\n",
            "1250/1250 [==============================] - 7s 6ms/step - loss: 0.0704 - accuracy: 0.9808 - val_loss: 0.0560 - val_accuracy: 0.9832\n",
            "Epoch 66/200\n",
            "1250/1250 [==============================] - 5s 4ms/step - loss: 0.0714 - accuracy: 0.9807 - val_loss: 0.0552 - val_accuracy: 0.9841\n",
            "Epoch 67/200\n",
            "1250/1250 [==============================] - 3s 2ms/step - loss: 0.0722 - accuracy: 0.9807 - val_loss: 0.0556 - val_accuracy: 0.9837\n",
            "Epoch 68/200\n",
            "1250/1250 [==============================] - 4s 3ms/step - loss: 0.0704 - accuracy: 0.9805 - val_loss: 0.0557 - val_accuracy: 0.9848\n",
            "Epoch 69/200\n",
            "1250/1250 [==============================] - 3s 2ms/step - loss: 0.0709 - accuracy: 0.9811 - val_loss: 0.0566 - val_accuracy: 0.9836\n",
            "Epoch 70/200\n",
            "1250/1250 [==============================] - 5s 4ms/step - loss: 0.0713 - accuracy: 0.9813 - val_loss: 0.0548 - val_accuracy: 0.9846\n",
            "Epoch 71/200\n",
            "1250/1250 [==============================] - 5s 4ms/step - loss: 0.0714 - accuracy: 0.9807 - val_loss: 0.0553 - val_accuracy: 0.9837\n",
            "Epoch 72/200\n",
            "1250/1250 [==============================] - 4s 3ms/step - loss: 0.0702 - accuracy: 0.9806 - val_loss: 0.0551 - val_accuracy: 0.9850\n",
            "Epoch 73/200\n",
            "1250/1250 [==============================] - 5s 4ms/step - loss: 0.0737 - accuracy: 0.9813 - val_loss: 0.0552 - val_accuracy: 0.9841\n",
            "Epoch 74/200\n",
            "1250/1250 [==============================] - 4s 3ms/step - loss: 0.0733 - accuracy: 0.9800 - val_loss: 0.0560 - val_accuracy: 0.9844\n",
            "Epoch 75/200\n",
            "1250/1250 [==============================] - 3s 2ms/step - loss: 0.0699 - accuracy: 0.9800 - val_loss: 0.0548 - val_accuracy: 0.9845\n",
            "Epoch 76/200\n",
            "1250/1250 [==============================] - 3s 2ms/step - loss: 0.0696 - accuracy: 0.9807 - val_loss: 0.0560 - val_accuracy: 0.9842\n",
            "Epoch 77/200\n",
            "1250/1250 [==============================] - 3s 2ms/step - loss: 0.0705 - accuracy: 0.9808 - val_loss: 0.0566 - val_accuracy: 0.9836\n",
            "Epoch 78/200\n",
            "1250/1250 [==============================] - 5s 4ms/step - loss: 0.0700 - accuracy: 0.9804 - val_loss: 0.0533 - val_accuracy: 0.9842\n",
            "Epoch 79/200\n",
            "1250/1250 [==============================] - 5s 4ms/step - loss: 0.0767 - accuracy: 0.9813 - val_loss: 0.0547 - val_accuracy: 0.9844\n",
            "Epoch 80/200\n",
            "1250/1250 [==============================] - 4s 3ms/step - loss: 0.0697 - accuracy: 0.9821 - val_loss: 0.0551 - val_accuracy: 0.9843\n",
            "Epoch 81/200\n",
            "1250/1250 [==============================] - 4s 3ms/step - loss: 0.0699 - accuracy: 0.9811 - val_loss: 0.0538 - val_accuracy: 0.9843\n",
            "Epoch 82/200\n",
            "1250/1250 [==============================] - 3s 3ms/step - loss: 0.0788 - accuracy: 0.9811 - val_loss: 0.0539 - val_accuracy: 0.9850\n",
            "Epoch 83/200\n",
            "1250/1250 [==============================] - 4s 3ms/step - loss: 0.0721 - accuracy: 0.9807 - val_loss: 0.0542 - val_accuracy: 0.9846\n",
            "Epoch 84/200\n",
            "1250/1250 [==============================] - 6s 4ms/step - loss: 0.0715 - accuracy: 0.9808 - val_loss: 0.0532 - val_accuracy: 0.9843\n",
            "Epoch 85/200\n",
            "1250/1250 [==============================] - 5s 4ms/step - loss: 0.0694 - accuracy: 0.9812 - val_loss: 0.0558 - val_accuracy: 0.9840\n",
            "Epoch 86/200\n",
            "1250/1250 [==============================] - 3s 2ms/step - loss: 0.0714 - accuracy: 0.9805 - val_loss: 0.0541 - val_accuracy: 0.9844\n",
            "Epoch 87/200\n",
            "1250/1250 [==============================] - 3s 2ms/step - loss: 0.0704 - accuracy: 0.9812 - val_loss: 0.0539 - val_accuracy: 0.9856\n",
            "Epoch 88/200\n",
            "1250/1250 [==============================] - 5s 4ms/step - loss: 0.0687 - accuracy: 0.9819 - val_loss: 0.0533 - val_accuracy: 0.9846\n",
            "Epoch 89/200\n",
            "1250/1250 [==============================] - 6s 5ms/step - loss: 0.0672 - accuracy: 0.9810 - val_loss: 0.0542 - val_accuracy: 0.9843\n",
            "Epoch 90/200\n",
            "1250/1250 [==============================] - 10s 8ms/step - loss: 0.0698 - accuracy: 0.9814 - val_loss: 0.0542 - val_accuracy: 0.9844\n",
            "Epoch 91/200\n",
            "1250/1250 [==============================] - 5s 4ms/step - loss: 0.0703 - accuracy: 0.9813 - val_loss: 0.0540 - val_accuracy: 0.9845\n",
            "Epoch 92/200\n",
            "1250/1250 [==============================] - 6s 5ms/step - loss: 0.0718 - accuracy: 0.9813 - val_loss: 0.0535 - val_accuracy: 0.9846\n",
            "Epoch 93/200\n",
            "1250/1250 [==============================] - 5s 4ms/step - loss: 0.0728 - accuracy: 0.9819 - val_loss: 0.0536 - val_accuracy: 0.9839\n",
            "Epoch 94/200\n",
            "1250/1250 [==============================] - 7s 6ms/step - loss: 0.0742 - accuracy: 0.9806 - val_loss: 0.0533 - val_accuracy: 0.9843\n",
            "Epoch 95/200\n",
            "1250/1250 [==============================] - 11s 9ms/step - loss: 0.0702 - accuracy: 0.9810 - val_loss: 0.0540 - val_accuracy: 0.9848\n",
            "Epoch 96/200\n",
            "1250/1250 [==============================] - 6s 5ms/step - loss: 0.0689 - accuracy: 0.9811 - val_loss: 0.0584 - val_accuracy: 0.9831\n",
            "Epoch 97/200\n",
            "1250/1250 [==============================] - 7s 6ms/step - loss: 0.0711 - accuracy: 0.9816 - val_loss: 0.0545 - val_accuracy: 0.9852\n",
            "Epoch 98/200\n",
            "1250/1250 [==============================] - 4s 3ms/step - loss: 0.0675 - accuracy: 0.9821 - val_loss: 0.0531 - val_accuracy: 0.9847\n",
            "Epoch 99/200\n",
            "1250/1250 [==============================] - 3s 3ms/step - loss: 0.0736 - accuracy: 0.9812 - val_loss: 0.0532 - val_accuracy: 0.9842\n",
            "Epoch 100/200\n",
            "1250/1250 [==============================] - 3s 2ms/step - loss: 0.0706 - accuracy: 0.9817 - val_loss: 0.0519 - val_accuracy: 0.9850\n",
            "Epoch 101/200\n",
            "1250/1250 [==============================] - 4s 3ms/step - loss: 0.0691 - accuracy: 0.9812 - val_loss: 0.0535 - val_accuracy: 0.9848\n",
            "Epoch 102/200\n",
            "1250/1250 [==============================] - 3s 3ms/step - loss: 0.0760 - accuracy: 0.9812 - val_loss: 0.0547 - val_accuracy: 0.9850\n",
            "Epoch 103/200\n",
            "1250/1250 [==============================] - 3s 2ms/step - loss: 0.0777 - accuracy: 0.9812 - val_loss: 0.0539 - val_accuracy: 0.9849\n",
            "Epoch 104/200\n",
            "1250/1250 [==============================] - 3s 2ms/step - loss: 0.0673 - accuracy: 0.9816 - val_loss: 0.0539 - val_accuracy: 0.9851\n",
            "Epoch 105/200\n",
            "1250/1250 [==============================] - 4s 3ms/step - loss: 0.0682 - accuracy: 0.9809 - val_loss: 0.0532 - val_accuracy: 0.9851\n",
            "Epoch 106/200\n",
            "1250/1250 [==============================] - 3s 2ms/step - loss: 0.0720 - accuracy: 0.9812 - val_loss: 0.0528 - val_accuracy: 0.9850\n",
            "Epoch 107/200\n",
            "1250/1250 [==============================] - 3s 2ms/step - loss: 0.0670 - accuracy: 0.9812 - val_loss: 0.0519 - val_accuracy: 0.9853\n",
            "Epoch 108/200\n",
            "1250/1250 [==============================] - 3s 2ms/step - loss: 0.0755 - accuracy: 0.9817 - val_loss: 0.0537 - val_accuracy: 0.9854\n",
            "Epoch 109/200\n",
            "1250/1250 [==============================] - 4s 3ms/step - loss: 0.0688 - accuracy: 0.9813 - val_loss: 0.0530 - val_accuracy: 0.9857\n",
            "Epoch 110/200\n",
            "1250/1250 [==============================] - 3s 2ms/step - loss: 0.0710 - accuracy: 0.9809 - val_loss: 0.0536 - val_accuracy: 0.9850\n",
            "Epoch 111/200\n",
            "1250/1250 [==============================] - 3s 2ms/step - loss: 0.0658 - accuracy: 0.9808 - val_loss: 0.0537 - val_accuracy: 0.9846\n",
            "Epoch 112/200\n",
            "1250/1250 [==============================] - 3s 2ms/step - loss: 0.0720 - accuracy: 0.9807 - val_loss: 0.0519 - val_accuracy: 0.9847\n",
            "Epoch 113/200\n",
            "1250/1250 [==============================] - 4s 3ms/step - loss: 0.0683 - accuracy: 0.9814 - val_loss: 0.0524 - val_accuracy: 0.9853\n",
            "Epoch 114/200\n",
            "1250/1250 [==============================] - 3s 2ms/step - loss: 0.0652 - accuracy: 0.9819 - val_loss: 0.0532 - val_accuracy: 0.9844\n",
            "Epoch 115/200\n",
            "1250/1250 [==============================] - 3s 2ms/step - loss: 0.0681 - accuracy: 0.9819 - val_loss: 0.0510 - val_accuracy: 0.9849\n",
            "Epoch 116/200\n",
            "1250/1250 [==============================] - 3s 2ms/step - loss: 0.0701 - accuracy: 0.9818 - val_loss: 0.0512 - val_accuracy: 0.9849\n",
            "Epoch 117/200\n",
            "1250/1250 [==============================] - 4s 3ms/step - loss: 0.0696 - accuracy: 0.9819 - val_loss: 0.0519 - val_accuracy: 0.9852\n",
            "Epoch 118/200\n",
            "1250/1250 [==============================] - 3s 2ms/step - loss: 0.0669 - accuracy: 0.9815 - val_loss: 0.0542 - val_accuracy: 0.9857\n",
            "Epoch 119/200\n",
            "1250/1250 [==============================] - 3s 2ms/step - loss: 0.0683 - accuracy: 0.9818 - val_loss: 0.0527 - val_accuracy: 0.9851\n",
            "Epoch 120/200\n",
            "1250/1250 [==============================] - 3s 3ms/step - loss: 0.0667 - accuracy: 0.9820 - val_loss: 0.0530 - val_accuracy: 0.9853\n",
            "Epoch 121/200\n",
            "1250/1250 [==============================] - 4s 3ms/step - loss: 0.0674 - accuracy: 0.9817 - val_loss: 0.0519 - val_accuracy: 0.9846\n",
            "Epoch 122/200\n",
            "1250/1250 [==============================] - 3s 2ms/step - loss: 0.0698 - accuracy: 0.9819 - val_loss: 0.0508 - val_accuracy: 0.9844\n",
            "Epoch 123/200\n",
            "1250/1250 [==============================] - 3s 2ms/step - loss: 0.0676 - accuracy: 0.9817 - val_loss: 0.0512 - val_accuracy: 0.9855\n",
            "Epoch 124/200\n",
            "1250/1250 [==============================] - 3s 2ms/step - loss: 0.0770 - accuracy: 0.9813 - val_loss: 0.0519 - val_accuracy: 0.9845\n",
            "Epoch 125/200\n",
            "1250/1250 [==============================] - 4s 3ms/step - loss: 0.0656 - accuracy: 0.9826 - val_loss: 0.0520 - val_accuracy: 0.9854\n",
            "Epoch 126/200\n",
            "1250/1250 [==============================] - 3s 2ms/step - loss: 0.0696 - accuracy: 0.9816 - val_loss: 0.0508 - val_accuracy: 0.9849\n",
            "Epoch 127/200\n",
            "1250/1250 [==============================] - 3s 2ms/step - loss: 0.0670 - accuracy: 0.9823 - val_loss: 0.0521 - val_accuracy: 0.9851\n",
            "Epoch 128/200\n",
            "1250/1250 [==============================] - 3s 2ms/step - loss: 0.0689 - accuracy: 0.9823 - val_loss: 0.0513 - val_accuracy: 0.9852\n",
            "Epoch 129/200\n",
            "1250/1250 [==============================] - 4s 3ms/step - loss: 0.0673 - accuracy: 0.9825 - val_loss: 0.0506 - val_accuracy: 0.9854\n",
            "Epoch 130/200\n",
            "1250/1250 [==============================] - 3s 2ms/step - loss: 0.0696 - accuracy: 0.9818 - val_loss: 0.0506 - val_accuracy: 0.9850\n",
            "Epoch 131/200\n",
            "1250/1250 [==============================] - 3s 2ms/step - loss: 0.0663 - accuracy: 0.9819 - val_loss: 0.0499 - val_accuracy: 0.9859\n",
            "Epoch 132/200\n",
            "1250/1250 [==============================] - 3s 3ms/step - loss: 0.0671 - accuracy: 0.9827 - val_loss: 0.0516 - val_accuracy: 0.9855\n",
            "Epoch 133/200\n",
            "1250/1250 [==============================] - 4s 3ms/step - loss: 0.0661 - accuracy: 0.9818 - val_loss: 0.0517 - val_accuracy: 0.9849\n",
            "Epoch 134/200\n",
            "1250/1250 [==============================] - 3s 2ms/step - loss: 0.0656 - accuracy: 0.9822 - val_loss: 0.0506 - val_accuracy: 0.9849\n",
            "Epoch 135/200\n",
            "1250/1250 [==============================] - 3s 2ms/step - loss: 0.0710 - accuracy: 0.9819 - val_loss: 0.0498 - val_accuracy: 0.9849\n",
            "Epoch 136/200\n",
            "1250/1250 [==============================] - 3s 2ms/step - loss: 0.0683 - accuracy: 0.9823 - val_loss: 0.0499 - val_accuracy: 0.9858\n",
            "Epoch 137/200\n",
            "1250/1250 [==============================] - 4s 3ms/step - loss: 0.0665 - accuracy: 0.9815 - val_loss: 0.0519 - val_accuracy: 0.9854\n",
            "Epoch 138/200\n",
            "1250/1250 [==============================] - 3s 2ms/step - loss: 0.0770 - accuracy: 0.9818 - val_loss: 0.0499 - val_accuracy: 0.9858\n",
            "Epoch 139/200\n",
            "1250/1250 [==============================] - 3s 2ms/step - loss: 0.0719 - accuracy: 0.9816 - val_loss: 0.0507 - val_accuracy: 0.9857\n",
            "Epoch 140/200\n",
            "1250/1250 [==============================] - 3s 2ms/step - loss: 0.0659 - accuracy: 0.9823 - val_loss: 0.0494 - val_accuracy: 0.9860\n",
            "Epoch 141/200\n",
            "1250/1250 [==============================] - 4s 3ms/step - loss: 0.0668 - accuracy: 0.9818 - val_loss: 0.0506 - val_accuracy: 0.9857\n",
            "Epoch 142/200\n",
            "1250/1250 [==============================] - 3s 3ms/step - loss: 0.0674 - accuracy: 0.9819 - val_loss: 0.0518 - val_accuracy: 0.9848\n",
            "Epoch 143/200\n",
            "1250/1250 [==============================] - 3s 2ms/step - loss: 0.0649 - accuracy: 0.9824 - val_loss: 0.0501 - val_accuracy: 0.9856\n",
            "Epoch 144/200\n",
            "1250/1250 [==============================] - 3s 2ms/step - loss: 0.0676 - accuracy: 0.9820 - val_loss: 0.0499 - val_accuracy: 0.9851\n",
            "Epoch 145/200\n",
            "1250/1250 [==============================] - 4s 3ms/step - loss: 0.0659 - accuracy: 0.9818 - val_loss: 0.0487 - val_accuracy: 0.9854\n",
            "Epoch 146/200\n",
            "1250/1250 [==============================] - 3s 2ms/step - loss: 0.0682 - accuracy: 0.9822 - val_loss: 0.0511 - val_accuracy: 0.9854\n",
            "Epoch 147/200\n",
            "1250/1250 [==============================] - 3s 2ms/step - loss: 0.0700 - accuracy: 0.9818 - val_loss: 0.0513 - val_accuracy: 0.9863\n",
            "Epoch 148/200\n",
            "1250/1250 [==============================] - 3s 2ms/step - loss: 0.0704 - accuracy: 0.9816 - val_loss: 0.0497 - val_accuracy: 0.9859\n",
            "Epoch 149/200\n",
            "1250/1250 [==============================] - 4s 3ms/step - loss: 0.0661 - accuracy: 0.9817 - val_loss: 0.0528 - val_accuracy: 0.9855\n",
            "Epoch 150/200\n",
            "1250/1250 [==============================] - 3s 3ms/step - loss: 0.0678 - accuracy: 0.9831 - val_loss: 0.0504 - val_accuracy: 0.9870\n",
            "Epoch 151/200\n",
            "1250/1250 [==============================] - 3s 2ms/step - loss: 0.0725 - accuracy: 0.9822 - val_loss: 0.0484 - val_accuracy: 0.9868\n",
            "Epoch 152/200\n",
            "1250/1250 [==============================] - 3s 2ms/step - loss: 0.0807 - accuracy: 0.9824 - val_loss: 0.0495 - val_accuracy: 0.9860\n",
            "Epoch 153/200\n",
            "1250/1250 [==============================] - 4s 3ms/step - loss: 0.0652 - accuracy: 0.9828 - val_loss: 0.0504 - val_accuracy: 0.9862\n",
            "Epoch 154/200\n",
            "1250/1250 [==============================] - 3s 3ms/step - loss: 0.0684 - accuracy: 0.9829 - val_loss: 0.0493 - val_accuracy: 0.9861\n",
            "Epoch 155/200\n",
            "1250/1250 [==============================] - 3s 2ms/step - loss: 0.0651 - accuracy: 0.9821 - val_loss: 0.0500 - val_accuracy: 0.9861\n",
            "Epoch 156/200\n",
            "1250/1250 [==============================] - 3s 2ms/step - loss: 0.0673 - accuracy: 0.9830 - val_loss: 0.0489 - val_accuracy: 0.9854\n",
            "Epoch 157/200\n",
            "1250/1250 [==============================] - 4s 3ms/step - loss: 0.0664 - accuracy: 0.9821 - val_loss: 0.0494 - val_accuracy: 0.9862\n",
            "Epoch 158/200\n",
            "1250/1250 [==============================] - 3s 3ms/step - loss: 0.0664 - accuracy: 0.9824 - val_loss: 0.0506 - val_accuracy: 0.9853\n",
            "Epoch 159/200\n",
            "1250/1250 [==============================] - 3s 2ms/step - loss: 0.0664 - accuracy: 0.9821 - val_loss: 0.0513 - val_accuracy: 0.9863\n",
            "Epoch 160/200\n",
            "1250/1250 [==============================] - 3s 2ms/step - loss: 0.0636 - accuracy: 0.9828 - val_loss: 0.0479 - val_accuracy: 0.9857\n",
            "Epoch 161/200\n",
            "1250/1250 [==============================] - 3s 3ms/step - loss: 0.0662 - accuracy: 0.9822 - val_loss: 0.0491 - val_accuracy: 0.9860\n",
            "Epoch 162/200\n",
            "1250/1250 [==============================] - 3s 3ms/step - loss: 0.0725 - accuracy: 0.9824 - val_loss: 0.0504 - val_accuracy: 0.9857\n",
            "Epoch 163/200\n",
            "1250/1250 [==============================] - 3s 2ms/step - loss: 0.0651 - accuracy: 0.9820 - val_loss: 0.0497 - val_accuracy: 0.9852\n",
            "Epoch 164/200\n",
            "1250/1250 [==============================] - 3s 2ms/step - loss: 0.0673 - accuracy: 0.9823 - val_loss: 0.0482 - val_accuracy: 0.9863\n",
            "Epoch 165/200\n",
            "1250/1250 [==============================] - 4s 3ms/step - loss: 0.0686 - accuracy: 0.9818 - val_loss: 0.0495 - val_accuracy: 0.9865\n",
            "Epoch 166/200\n",
            "1250/1250 [==============================] - 3s 2ms/step - loss: 0.0652 - accuracy: 0.9825 - val_loss: 0.0495 - val_accuracy: 0.9859\n",
            "Epoch 167/200\n",
            "1250/1250 [==============================] - 3s 2ms/step - loss: 0.0645 - accuracy: 0.9824 - val_loss: 0.0484 - val_accuracy: 0.9862\n",
            "Epoch 168/200\n",
            "1250/1250 [==============================] - 3s 2ms/step - loss: 0.0715 - accuracy: 0.9824 - val_loss: 0.0496 - val_accuracy: 0.9848\n",
            "Epoch 169/200\n",
            "1250/1250 [==============================] - 3s 3ms/step - loss: 0.0655 - accuracy: 0.9821 - val_loss: 0.0509 - val_accuracy: 0.9848\n",
            "Epoch 170/200\n",
            "1250/1250 [==============================] - 3s 3ms/step - loss: 0.0718 - accuracy: 0.9823 - val_loss: 0.0495 - val_accuracy: 0.9853\n",
            "Epoch 171/200\n",
            "1250/1250 [==============================] - 3s 2ms/step - loss: 0.0654 - accuracy: 0.9818 - val_loss: 0.0516 - val_accuracy: 0.9851\n",
            "Epoch 172/200\n",
            "1250/1250 [==============================] - 3s 2ms/step - loss: 0.0658 - accuracy: 0.9818 - val_loss: 0.0478 - val_accuracy: 0.9859\n",
            "Epoch 173/200\n",
            "1250/1250 [==============================] - 3s 3ms/step - loss: 0.0655 - accuracy: 0.9819 - val_loss: 0.0516 - val_accuracy: 0.9847\n",
            "Epoch 174/200\n",
            "1250/1250 [==============================] - 3s 3ms/step - loss: 0.0663 - accuracy: 0.9819 - val_loss: 0.0488 - val_accuracy: 0.9856\n",
            "Epoch 175/200\n",
            "1250/1250 [==============================] - 3s 2ms/step - loss: 0.0693 - accuracy: 0.9818 - val_loss: 0.0475 - val_accuracy: 0.9859\n",
            "Epoch 176/200\n",
            "1250/1250 [==============================] - 3s 2ms/step - loss: 0.0647 - accuracy: 0.9823 - val_loss: 0.0501 - val_accuracy: 0.9856\n",
            "Epoch 177/200\n",
            "1250/1250 [==============================] - 3s 3ms/step - loss: 0.0679 - accuracy: 0.9814 - val_loss: 0.0504 - val_accuracy: 0.9852\n",
            "Epoch 178/200\n",
            "1250/1250 [==============================] - 4s 3ms/step - loss: 0.0653 - accuracy: 0.9827 - val_loss: 0.0514 - val_accuracy: 0.9843\n",
            "Epoch 179/200\n",
            "1250/1250 [==============================] - 3s 2ms/step - loss: 0.0639 - accuracy: 0.9827 - val_loss: 0.0491 - val_accuracy: 0.9859\n",
            "Epoch 180/200\n",
            "1250/1250 [==============================] - 3s 2ms/step - loss: 0.0642 - accuracy: 0.9819 - val_loss: 0.0488 - val_accuracy: 0.9847\n",
            "Epoch 181/200\n",
            "1250/1250 [==============================] - 3s 3ms/step - loss: 0.0639 - accuracy: 0.9824 - val_loss: 0.0488 - val_accuracy: 0.9852\n",
            "Epoch 182/200\n",
            "1250/1250 [==============================] - 4s 3ms/step - loss: 0.0617 - accuracy: 0.9829 - val_loss: 0.0489 - val_accuracy: 0.9860\n",
            "Epoch 183/200\n",
            "1250/1250 [==============================] - 3s 2ms/step - loss: 0.0674 - accuracy: 0.9821 - val_loss: 0.0493 - val_accuracy: 0.9860\n",
            "Epoch 184/200\n",
            "1250/1250 [==============================] - 3s 2ms/step - loss: 0.0655 - accuracy: 0.9820 - val_loss: 0.0494 - val_accuracy: 0.9863\n",
            "Epoch 185/200\n",
            "1250/1250 [==============================] - 3s 3ms/step - loss: 0.0731 - accuracy: 0.9826 - val_loss: 0.0488 - val_accuracy: 0.9859\n",
            "Epoch 186/200\n",
            "1250/1250 [==============================] - 3s 3ms/step - loss: 0.0634 - accuracy: 0.9819 - val_loss: 0.0489 - val_accuracy: 0.9854\n",
            "Epoch 187/200\n",
            "1250/1250 [==============================] - 3s 2ms/step - loss: 0.0620 - accuracy: 0.9828 - val_loss: 0.0482 - val_accuracy: 0.9860\n",
            "Epoch 188/200\n",
            "1250/1250 [==============================] - 3s 2ms/step - loss: 0.0633 - accuracy: 0.9826 - val_loss: 0.0485 - val_accuracy: 0.9859\n",
            "Epoch 189/200\n",
            "1250/1250 [==============================] - 3s 3ms/step - loss: 0.0657 - accuracy: 0.9830 - val_loss: 0.0484 - val_accuracy: 0.9857\n",
            "Epoch 190/200\n",
            "1250/1250 [==============================] - 3s 3ms/step - loss: 0.0650 - accuracy: 0.9826 - val_loss: 0.0486 - val_accuracy: 0.9857\n",
            "Epoch 191/200\n",
            "1250/1250 [==============================] - 3s 2ms/step - loss: 0.0696 - accuracy: 0.9820 - val_loss: 0.0484 - val_accuracy: 0.9849\n",
            "Epoch 192/200\n",
            "1250/1250 [==============================] - 3s 2ms/step - loss: 0.0659 - accuracy: 0.9829 - val_loss: 0.0493 - val_accuracy: 0.9850\n",
            "Epoch 193/200\n",
            "1250/1250 [==============================] - 3s 3ms/step - loss: 0.0674 - accuracy: 0.9828 - val_loss: 0.0497 - val_accuracy: 0.9856\n",
            "Epoch 194/200\n",
            "1250/1250 [==============================] - 3s 3ms/step - loss: 0.0625 - accuracy: 0.9833 - val_loss: 0.0497 - val_accuracy: 0.9864\n",
            "Epoch 195/200\n",
            "1250/1250 [==============================] - 3s 2ms/step - loss: 0.0660 - accuracy: 0.9832 - val_loss: 0.0483 - val_accuracy: 0.9864\n",
            "Epoch 196/200\n",
            "1250/1250 [==============================] - 3s 2ms/step - loss: 0.0727 - accuracy: 0.9824 - val_loss: 0.0510 - val_accuracy: 0.9859\n",
            "Epoch 197/200\n",
            "1250/1250 [==============================] - 3s 3ms/step - loss: 0.0652 - accuracy: 0.9823 - val_loss: 0.0485 - val_accuracy: 0.9860\n",
            "Epoch 198/200\n",
            "1250/1250 [==============================] - 4s 3ms/step - loss: 0.0658 - accuracy: 0.9826 - val_loss: 0.0474 - val_accuracy: 0.9865\n",
            "Epoch 199/200\n",
            "1250/1250 [==============================] - 3s 2ms/step - loss: 0.0664 - accuracy: 0.9833 - val_loss: 0.0477 - val_accuracy: 0.9873\n",
            "Epoch 200/200\n",
            "1250/1250 [==============================] - 3s 2ms/step - loss: 0.0618 - accuracy: 0.9827 - val_loss: 0.0484 - val_accuracy: 0.9858\n",
            "391/391 [==============================] - 1s 1ms/step - loss: 0.0468 - accuracy: 0.9854\n",
            "Test Loss: 0.04675944894552231, Test Accuracy: 0.9853565096855164\n",
            "391/391 [==============================] - 1s 1ms/step\n",
            "              precision    recall  f1-score   support\n",
            "\n",
            "           0       0.99      0.99      0.99      7125\n",
            "           1       0.98      0.99      0.98      5372\n",
            "\n",
            "    accuracy                           0.99     12497\n",
            "   macro avg       0.98      0.99      0.99     12497\n",
            "weighted avg       0.99      0.99      0.99     12497\n",
            "\n",
            "Confusion Matrix:\n",
            "[[7019  106]\n",
            " [  77 5295]]\n"
          ]
        },
        {
          "data": {
            "image/png": "[encoded data removed]",
            "text/plain": [
              "<Figure size 640x480 with 1 Axes>"
            ]
          },
          "metadata": {},
          "output_type": "display_data"
        }
      ],
      "source": [
        "import pandas as pd\n",
        "import numpy as np\n",
        "import tensorflow as tf\n",
        "from sklearn.model_selection import train_test_split\n",
        "from sklearn.preprocessing import StandardScaler\n",
        "from sklearn.metrics import classification_report, confusion_matrix\n",
        "import matplotlib.pyplot as plt\n",
        "\n",
        "# Load the dataset\n",
        "df = pd.read_csv(\"/content/data_file.csv\")\n",
        "\n",
        "# Drop the unnecessary columns\n",
        "df.drop(['FileName', 'md5Hash'], axis=1, inplace=True)\n",
        "\n",
        "# # Convert categorical columns to numerical using one-hot encoding\n",
        "# df = pd.get_dummies(df, columns=['Machine', 'MajorOSVersion', 'BitcoinAddresses'])\n",
        "\n",
        "# Split features and target\n",
        "X = df.drop('Benign', axis=1)\n",
        "y = df['Benign']\n",
        "\n",
        "# Split data into training and testing sets\n",
        "X_train, X_test, y_train, y_test = train_test_split(X, y, test_size=0.2, random_state=42)\n",
        "\n",
        "# Standardize features\n",
        "scaler = StandardScaler()\n",
        "X_train_scaled = scaler.fit_transform(X_train)\n",
        "X_test_scaled = scaler.transform(X_test)\n",
        "\n",
        "# Build the DNN model\n",
        "model = tf.keras.Sequential([\n",
        "    tf.keras.layers.Dense(128, activation='relu', input_shape=(X_train_scaled.shape[1],)),\n",
        "    tf.keras.layers.Dropout(0.5),\n",
        "    tf.keras.layers.Dense(64, activation='relu'),\n",
        "    tf.keras.layers.Dropout(0.5),\n",
        "    tf.keras.layers.Dense(1, activation='sigmoid')\n",
        "])\n",
        "\n",
        "# Compile the model\n",
        "model.compile(optimizer='adam', loss='binary_crossentropy', metrics=['accuracy'])\n",
        "\n",
        "# Train the model\n",
        "history = model.fit(X_train_scaled, y_train, epochs=200, batch_size=32, validation_split=0.2, verbose=1)\n",
        "\n",
        "# Save the trained model\n",
        "model.save(\"dnn_model\")\n",
        "\n",
        "# Evaluate the model\n",
        "loss, accuracy = model.evaluate(X_test_scaled, y_test)\n",
        "print(f\"Test Loss: {loss}, Test Accuracy: {accuracy}\")\n",
        "\n",
        "# Predictions\n",
        "y_pred = (model.predict(X_test_scaled) > 0.5).astype(\"int32\")\n",
        "\n",
        "# Classification report and confusion matrix\n",
        "print(classification_report(y_test, y_pred))\n",
        "cm = confusion_matrix(y_test, y_pred)\n",
        "print(\"Confusion Matrix:\")\n",
        "print(cm)\n",
        "\n",
        "# Plot training history\n",
        "plt.plot(history.history['accuracy'], label='Train Accuracy')\n",
        "plt.plot(history.history['val_accuracy'], label='Validation Accuracy')\n",
        "plt.title('Model Accuracy')\n",
        "plt.xlabel('Epoch')\n",
        "plt.ylabel('Accuracy')\n",
        "plt.legend()\n",
        "plt.show()\n",
        "\n",
        "\n"
      ]
    },
    {
      "cell_type": "markdown",
      "metadata": {
        "id": "NtEH3jT77iEJ"
      },
      "source": [
        "## Download Saved Models"
      ]
    },
    {
      "cell_type": "code",
      "execution_count": null,
      "metadata": {
        "colab": {
          "base_uri": "https://localhost:8080/",
          "height": 356
        },
        "id": "3hsl3Ggl7kLE",
        "outputId": "d6f5fa59-e9b6-4112-ba3e-7261312d9626"
      },
      "outputs": [
        {
          "ename": "FileNotFoundError",
          "evalue": "[Errno 2] No such file or directory: '/content/random_forest_model.pkl'",
          "output_type": "error",
          "traceback": [
            "\u001b[0;31m---------------------------------------------------------------------------\u001b[0m",
            "\u001b[0;31mFileNotFoundError\u001b[0m                         Traceback (most recent call last)",
            "\u001b[0;32m<ipython-input-3-9f10eddc1b9b>\u001b[0m in \u001b[0;36m<cell line: 11>\u001b[0;34m()\u001b[0m\n\u001b[1;32m     11\u001b[0m \u001b[0;32mwith\u001b[0m \u001b[0mzipfile\u001b[0m\u001b[0;34m.\u001b[0m\u001b[0mZipFile\u001b[0m\u001b[0;34m(\u001b[0m\u001b[0mzip_file_path\u001b[0m\u001b[0;34m,\u001b[0m \u001b[0;34m'w'\u001b[0m\u001b[0;34m)\u001b[0m \u001b[0;32mas\u001b[0m \u001b[0mzipf\u001b[0m\u001b[0;34m:\u001b[0m\u001b[0;34m\u001b[0m\u001b[0;34m\u001b[0m\u001b[0m\n\u001b[1;32m     12\u001b[0m     \u001b[0;32mfor\u001b[0m \u001b[0mfile_path\u001b[0m \u001b[0;32min\u001b[0m \u001b[0mfile_paths\u001b[0m\u001b[0;34m:\u001b[0m\u001b[0;34m\u001b[0m\u001b[0;34m\u001b[0m\u001b[0m\n\u001b[0;32m---> 13\u001b[0;31m         \u001b[0mzipf\u001b[0m\u001b[0;34m.\u001b[0m\u001b[0mwrite\u001b[0m\u001b[0;34m(\u001b[0m\u001b[0mfile_path\u001b[0m\u001b[0;34m,\u001b[0m \u001b[0mos\u001b[0m\u001b[0;34m.\u001b[0m\u001b[0mpath\u001b[0m\u001b[0;34m.\u001b[0m\u001b[0mbasename\u001b[0m\u001b[0;34m(\u001b[0m\u001b[0mfile_path\u001b[0m\u001b[0;34m)\u001b[0m\u001b[0;34m)\u001b[0m\u001b[0;34m\u001b[0m\u001b[0;34m\u001b[0m\u001b[0m\n\u001b[0m\u001b[1;32m     14\u001b[0m \u001b[0;34m\u001b[0m\u001b[0m\n\u001b[1;32m     15\u001b[0m \u001b[0;31m# Download the zip file\u001b[0m\u001b[0;34m\u001b[0m\u001b[0;34m\u001b[0m\u001b[0m\n",
            "\u001b[0;32m/usr/lib/python3.10/zipfile.py\u001b[0m in \u001b[0;36mwrite\u001b[0;34m(self, filename, arcname, compress_type, compresslevel)\u001b[0m\n\u001b[1;32m   1739\u001b[0m             )\n\u001b[1;32m   1740\u001b[0m \u001b[0;34m\u001b[0m\u001b[0m\n\u001b[0;32m-> 1741\u001b[0;31m         zinfo = ZipInfo.from_file(filename, arcname,\n\u001b[0m\u001b[1;32m   1742\u001b[0m                                   strict_timestamps=self._strict_timestamps)\n\u001b[1;32m   1743\u001b[0m \u001b[0;34m\u001b[0m\u001b[0m\n",
            "\u001b[0;32m/usr/lib/python3.10/zipfile.py\u001b[0m in \u001b[0;36mfrom_file\u001b[0;34m(cls, filename, arcname, strict_timestamps)\u001b[0m\n\u001b[1;32m    502\u001b[0m         \u001b[0;32mif\u001b[0m \u001b[0misinstance\u001b[0m\u001b[0;34m(\u001b[0m\u001b[0mfilename\u001b[0m\u001b[0;34m,\u001b[0m \u001b[0mos\u001b[0m\u001b[0;34m.\u001b[0m\u001b[0mPathLike\u001b[0m\u001b[0;34m)\u001b[0m\u001b[0;34m:\u001b[0m\u001b[0;34m\u001b[0m\u001b[0;34m\u001b[0m\u001b[0m\n\u001b[1;32m    503\u001b[0m             \u001b[0mfilename\u001b[0m \u001b[0;34m=\u001b[0m \u001b[0mos\u001b[0m\u001b[0;34m.\u001b[0m\u001b[0mfspath\u001b[0m\u001b[0;34m(\u001b[0m\u001b[0mfilename\u001b[0m\u001b[0;34m)\u001b[0m\u001b[0;34m\u001b[0m\u001b[0;34m\u001b[0m\u001b[0m\n\u001b[0;32m--> 504\u001b[0;31m         \u001b[0mst\u001b[0m \u001b[0;34m=\u001b[0m \u001b[0mos\u001b[0m\u001b[0;34m.\u001b[0m\u001b[0mstat\u001b[0m\u001b[0;34m(\u001b[0m\u001b[0mfilename\u001b[0m\u001b[0;34m)\u001b[0m\u001b[0;34m\u001b[0m\u001b[0;34m\u001b[0m\u001b[0m\n\u001b[0m\u001b[1;32m    505\u001b[0m         \u001b[0misdir\u001b[0m \u001b[0;34m=\u001b[0m \u001b[0mstat\u001b[0m\u001b[0;34m.\u001b[0m\u001b[0mS_ISDIR\u001b[0m\u001b[0;34m(\u001b[0m\u001b[0mst\u001b[0m\u001b[0;34m.\u001b[0m\u001b[0mst_mode\u001b[0m\u001b[0;34m)\u001b[0m\u001b[0;34m\u001b[0m\u001b[0;34m\u001b[0m\u001b[0m\n\u001b[1;32m    506\u001b[0m         \u001b[0mmtime\u001b[0m \u001b[0;34m=\u001b[0m \u001b[0mtime\u001b[0m\u001b[0;34m.\u001b[0m\u001b[0mlocaltime\u001b[0m\u001b[0;34m(\u001b[0m\u001b[0mst\u001b[0m\u001b[0;34m.\u001b[0m\u001b[0mst_mtime\u001b[0m\u001b[0;34m)\u001b[0m\u001b[0;34m\u001b[0m\u001b[0;34m\u001b[0m\u001b[0m\n",
            "\u001b[0;31mFileNotFoundError\u001b[0m: [Errno 2] No such file or directory: '/content/random_forest_model.pkl'"
          ]
        }
      ],
      "source": [
        "# Download the processed video/Images\n",
        "import os\n",
        "import zipfile\n",
        "from google.colab import files\n",
        "\n",
        "# Create some sample files (replace this with your actual file paths)\n",
        "file_paths = ['/content/random_forest_model.pkl','/content/xgboost_model.pkl']\n",
        "\n",
        "# Zip the files\n",
        "zip_file_path = '/content/model_files.zip'\n",
        "with zipfile.ZipFile(zip_file_path, 'w') as zipf:\n",
        "    for file_path in file_paths:\n",
        "        zipf.write(file_path, os.path.basename(file_path))\n",
        "\n",
        "# Download the zip file\n",
        "files.download(zip_file_path)\n"
      ]
    },
    {
      "cell_type": "code",
      "execution_count": null,
      "metadata": {
        "colab": {
          "base_uri": "https://localhost:8080/",
          "height": 17
        },
        "id": "-rK6nK89-_dl",
        "outputId": "e2a59ba4-93dd-4f31-9d81-4fd9f0e1cc8d"
      },
      "outputs": [
        {
          "data": {
            "application/javascript": "\n    async function download(id, filename, size) {\n      if (!google.colab.kernel.accessAllowed) {\n        return;\n      }\n      const div = document.createElement('div');\n      const label = document.createElement('label');\n      label.textContent = `Downloading \"${filename}\": `;\n      div.appendChild(label);\n      const progress = document.createElement('progress');\n      progress.max = size;\n      div.appendChild(progress);\n      document.body.appendChild(div);\n\n      const buffers = [];\n      let downloaded = 0;\n\n      const channel = await google.colab.kernel.comms.open(id);\n      // Send a message to notify the kernel that we're ready.\n      channel.send({})\n\n      for await (const message of channel.messages) {\n        // Send a message to notify the kernel that we're ready.\n        channel.send({})\n        if (message.buffers) {\n          for (const buffer of message.buffers) {\n            buffers.push(buffer);\n            downloaded += buffer.byteLength;\n            progress.value = downloaded;\n          }\n        }\n      }\n      const blob = new Blob(buffers, {type: 'application/binary'});\n      const a = document.createElement('a');\n      a.href = window.URL.createObjectURL(blob);\n      a.download = filename;\n      div.appendChild(a);\n      a.click();\n      div.remove();\n    }\n  ",
            "text/plain": [
              "<IPython.core.display.Javascript object>"
            ]
          },
          "metadata": {},
          "output_type": "display_data"
        },
        {
          "data": {
            "application/javascript": "download(\"download_c1d2a2a5-8866-4321-b9cf-28a039c0e8d2\", \"dnn_model.zip\", 137319)",
            "text/plain": [
              "<IPython.core.display.Javascript object>"
            ]
          },
          "metadata": {},
          "output_type": "display_data"
        }
      ],
      "source": [
        "import zipfile\n",
        "import os\n",
        "\n",
        "# Define the folder you want to zip\n",
        "folder_to_zip = \"/content/dnn_model\"\n",
        "\n",
        "# Zip the folder\n",
        "zip_filename = folder_to_zip + \".zip\"\n",
        "with zipfile.ZipFile(zip_filename, 'w', zipfile.ZIP_DEFLATED) as zipf:\n",
        "    for root, dirs, files in os.walk(folder_to_zip):\n",
        "        for file in files:\n",
        "            zipf.write(os.path.join(root, file), os.path.relpath(os.path.join(root, file), folder_to_zip))\n",
        "\n",
        "# Download the zipped file\n",
        "from google.colab import files\n",
        "files.download(zip_filename)\n"
      ]
    },
    {
      "cell_type": "markdown",
      "metadata": {
        "id": "jHQAPPWv8BoV"
      },
      "source": [
        "## Load Saved Models"
      ]
    },
    {
      "cell_type": "code",
      "execution_count": null,
      "metadata": {
        "id": "OuVtpU1U8TcJ"
      },
      "outputs": [],
      "source": [
        "# libraries for the files in google drive\n",
        "from pydrive.auth import GoogleAuth\n",
        "from google.colab import drive\n",
        "from pydrive.drive import GoogleDrive\n",
        "from google.colab import auth\n",
        "from oauth2client.client import GoogleCredentials"
      ]
    },
    {
      "cell_type": "code",
      "execution_count": null,
      "metadata": {
        "id": "zAhPXcEc8TcK"
      },
      "outputs": [],
      "source": [
        "auth.authenticate_user()\n",
        "gauth = GoogleAuth()\n",
        "gauth.credentials = GoogleCredentials.get_application_default()\n",
        "drive = GoogleDrive(gauth)\n",
        "\n",
        "file_id_2 = '1ur7qyO9IOnqBwG7kwys7sfkwXocUm5NZ'\n",
        "file_id_3 = '1f-1hsJKjL4Enlvdsv4f48iWB8FW5I0ZU'\n",
        "\n",
        "download2 = drive.CreateFile({'id': file_id_2})\n",
        "download3 = drive.CreateFile({'id': file_id_3})\n",
        "\n",
        "# Download the file to a local disc\n",
        "download2.GetContentFile('dnn_model.zip')\n",
        "download3.GetContentFile('model_files.zip')"
      ]
    },
    {
      "cell_type": "code",
      "execution_count": null,
      "metadata": {
        "colab": {
          "base_uri": "https://localhost:8080/"
        },
        "id": "LZGoHfYA_3JE",
        "outputId": "40772353-b9b4-491b-9d31-e350fed56829"
      },
      "outputs": [
        {
          "name": "stdout",
          "output_type": "stream",
          "text": [
            "Archive:  dnn_model.zip\n",
            "  inflating: /content/dnn_model/keras_metadata.pb  \n",
            "  inflating: /content/dnn_model/fingerprint.pb  \n",
            "  inflating: /content/dnn_model/saved_model.pb  \n",
            "  inflating: /content/dnn_model/variables/variables.data-00000-of-00001  \n",
            "  inflating: /content/dnn_model/variables/variables.index  \n"
          ]
        }
      ],
      "source": [
        "!unzip dnn_model.zip -d /content/dnn_model"
      ]
    },
    {
      "cell_type": "code",
      "execution_count": null,
      "metadata": {
        "colab": {
          "base_uri": "https://localhost:8080/"
        },
        "id": "urF7eM-FALqH",
        "outputId": "ae21b3d3-549c-4f2b-8309-f575fc31d7d1"
      },
      "outputs": [
        {
          "name": "stdout",
          "output_type": "stream",
          "text": [
            "Archive:  model_files.zip\n",
            " extracting: /content/model_files/random_forest_model.pkl  \n",
            " extracting: /content/model_files/xgboost_model.pkl  \n"
          ]
        }
      ],
      "source": [
        "!unzip model_files.zip -d /content/model_files"
      ]
    },
    {
      "cell_type": "markdown",
      "metadata": {
        "id": "x4aaPA6tAgL9"
      },
      "source": [
        "## Load New Dataset for Random Forest"
      ]
    },
    {
      "cell_type": "code",
      "execution_count": null,
      "metadata": {
        "id": "iov79tnNAjXx"
      },
      "outputs": [],
      "source": [
        "# libraries for the files in google drive\n",
        "from pydrive.auth import GoogleAuth\n",
        "from google.colab import drive\n",
        "from pydrive.drive import GoogleDrive\n",
        "from google.colab import auth\n",
        "from oauth2client.client import GoogleCredentials"
      ]
    },
    {
      "cell_type": "code",
      "execution_count": null,
      "metadata": {
        "colab": {
          "base_uri": "https://localhost:8080/"
        },
        "id": "n1_0davrje0L",
        "outputId": "c4ace4e2-e20f-48ec-fbff-e268274069c7"
      },
      "outputs": [
        {
          "name": "stdout",
          "output_type": "stream",
          "text": [
            "Directory already exists.\n"
          ]
        }
      ],
      "source": [
        "import os\n",
        "\n",
        "# Specify the directory name\n",
        "directory = '/content/new_data_files'\n",
        "\n",
        "# Check if the directory exists\n",
        "if not os.path.exists(directory):\n",
        "    # Create the directory\n",
        "    os.makedirs(directory)\n",
        "    print(\"Directory created successfully.\")\n",
        "else:\n",
        "    print(\"Directory already exists.\")\n"
      ]
    },
    {
      "cell_type": "code",
      "execution_count": null,
      "metadata": {
        "id": "lw9sT_sHhd5R"
      },
      "outputs": [],
      "source": [
        "auth.authenticate_user()\n",
        "gauth = GoogleAuth()\n",
        "gauth.credentials = GoogleCredentials.get_application_default()\n",
        "drive = GoogleDrive(gauth)\n",
        "\n",
        "file_id_4 = '1BNsc_06Fb3g10S3blJ6FrWXmPuJt0P5w'\n",
        "\n",
        "download4 = drive.CreateFile({'id': file_id_4})\n",
        "\n",
        "# Download the file to a local disc\n",
        "download4.GetContentFile('/content/new_data_files/selected_features_data.csv')"
      ]
    },
    {
      "cell_type": "markdown",
      "metadata": {
        "id": "Q5uLnaRPlvyR"
      },
      "source": [
        "**Run below cell only if you want to upload new csv data. Ensure that the data has all required feature columns.**"
      ]
    },
    {
      "cell_type": "code",
      "execution_count": null,
      "metadata": {
        "colab": {
          "base_uri": "https://localhost:8080/",
          "height": 715
        },
        "id": "SBc-5i8slbNi",
        "outputId": "7e97b33f-724b-480c-a32c-70a4438592bc"
      },
      "outputs": [
        {
          "data": {
            "text/html": [
              "\n",
              "     <input type=\"file\" id=\"files-c1750178-78ba-4296-83df-42d82d197693\" name=\"files[]\" multiple disabled\n",
              "        style=\"border:none\" />\n",
              "     <output id=\"result-c1750178-78ba-4296-83df-42d82d197693\">\n",
              "      Upload widget is only available when the cell has been executed in the\n",
              "      current browser session. Please rerun this cell to enable.\n",
              "      </output>\n",
              "      <script>// Copyright 2017 Google LLC\n",
              "//\n",
              "// Licensed under the Apache License, Version 2.0 (the \"License\");\n",
              "// you may not use this file except in compliance with the License.\n",
              "// You may obtain a copy of the License at\n",
              "//\n",
              "//      http://www.apache.org/licenses/LICENSE-2.0\n",
              "//\n",
              "// Unless required by applicable law or agreed to in writing, software\n",
              "// distributed under the License is distributed on an \"AS IS\" BASIS,\n",
              "// WITHOUT WARRANTIES OR CONDITIONS OF ANY KIND, either express or implied.\n",
              "// See the License for the specific language governing permissions and\n",
              "// limitations under the License.\n",
              "\n",
              "/**\n",
              " * @fileoverview Helpers for google.colab Python module.\n",
              " */\n",
              "(function(scope) {\n",
              "function span(text, styleAttributes = {}) {\n",
              "  const element = document.createElement('span');\n",
              "  element.textContent = text;\n",
              "  for (const key of Object.keys(styleAttributes)) {\n",
              "    element.style[key] = styleAttributes[key];\n",
              "  }\n",
              "  return element;\n",
              "}\n",
              "\n",
              "// Max number of bytes which will be uploaded at a time.\n",
              "const MAX_PAYLOAD_SIZE = 100 * 1024;\n",
              "\n",
              "function _uploadFiles(inputId, outputId) {\n",
              "  const steps = uploadFilesStep(inputId, outputId);\n",
              "  const outputElement = document.getElementById(outputId);\n",
              "  // Cache steps on the outputElement to make it available for the next call\n",
              "  // to uploadFilesContinue from Python.\n",
              "  outputElement.steps = steps;\n",
              "\n",
              "  return _uploadFilesContinue(outputId);\n",
              "}\n",
              "\n",
              "// This is roughly an async generator (not supported in the browser yet),\n",
              "// where there are multiple asynchronous steps and the Python side is going\n",
              "// to poll for completion of each step.\n",
              "// This uses a Promise to block the python side on completion of each step,\n",
              "// then passes the result of the previous step as the input to the next step.\n",
              "function _uploadFilesContinue(outputId) {\n",
              "  const outputElement = document.getElementById(outputId);\n",
              "  const steps = outputElement.steps;\n",
              "\n",
              "  const next = steps.next(outputElement.lastPromiseValue);\n",
              "  return Promise.resolve(next.value.promise).then((value) => {\n",
              "    // Cache the last promise value to make it available to the next\n",
              "    // step of the generator.\n",
              "    outputElement.lastPromiseValue = value;\n",
              "    return next.value.response;\n",
              "  });\n",
              "}\n",
              "\n",
              "/**\n",
              " * Generator function which is called between each async step of the upload\n",
              " * process.\n",
              " * @param {string} inputId Element ID of the input file picker element.\n",
              " * @param {string} outputId Element ID of the output display.\n",
              " * @return {!Iterable<!Object>} Iterable of next steps.\n",
              " */\n",
              "function* uploadFilesStep(inputId, outputId) {\n",
              "  const inputElement = document.getElementById(inputId);\n",
              "  inputElement.disabled = false;\n",
              "\n",
              "  const outputElement = document.getElementById(outputId);\n",
              "  outputElement.innerHTML = '';\n",
              "\n",
              "  const pickedPromise = new Promise((resolve) => {\n",
              "    inputElement.addEventListener('change', (e) => {\n",
              "      resolve(e.target.files);\n",
              "    });\n",
              "  });\n",
              "\n",
              "  const cancel = document.createElement('button');\n",
              "  inputElement.parentElement.appendChild(cancel);\n",
              "  cancel.textContent = 'Cancel upload';\n",
              "  const cancelPromise = new Promise((resolve) => {\n",
              "    cancel.onclick = () => {\n",
              "      resolve(null);\n",
              "    };\n",
              "  });\n",
              "\n",
              "  // Wait for the user to pick the files.\n",
              "  const files = yield {\n",
              "    promise: Promise.race([pickedPromise, cancelPromise]),\n",
              "    response: {\n",
              "      action: 'starting',\n",
              "    }\n",
              "  };\n",
              "\n",
              "  cancel.remove();\n",
              "\n",
              "  // Disable the input element since further picks are not allowed.\n",
              "  inputElement.disabled = true;\n",
              "\n",
              "  if (!files) {\n",
              "    return {\n",
              "      response: {\n",
              "        action: 'complete',\n",
              "      }\n",
              "    };\n",
              "  }\n",
              "\n",
              "  for (const file of files) {\n",
              "    const li = document.createElement('li');\n",
              "    li.append(span(file.name, {fontWeight: 'bold'}));\n",
              "    li.append(span(\n",
              "        `(${file.type || 'n/a'}) - ${file.size} bytes, ` +\n",
              "        `last modified: ${\n",
              "            file.lastModifiedDate ? file.lastModifiedDate.toLocaleDateString() :\n",
              "                                    'n/a'} - `));\n",
              "    const percent = span('0% done');\n",
              "    li.appendChild(percent);\n",
              "\n",
              "    outputElement.appendChild(li);\n",
              "\n",
              "    const fileDataPromise = new Promise((resolve) => {\n",
              "      const reader = new FileReader();\n",
              "      reader.onload = (e) => {\n",
              "        resolve(e.target.result);\n",
              "      };\n",
              "      reader.readAsArrayBuffer(file);\n",
              "    });\n",
              "    // Wait for the data to be ready.\n",
              "    let fileData = yield {\n",
              "      promise: fileDataPromise,\n",
              "      response: {\n",
              "        action: 'continue',\n",
              "      }\n",
              "    };\n",
              "\n",
              "    // Use a chunked sending to avoid message size limits. See b/62115660.\n",
              "    let position = 0;\n",
              "    do {\n",
              "      const length = Math.min(fileData.byteLength - position, MAX_PAYLOAD_SIZE);\n",
              "      const chunk = new Uint8Array(fileData, position, length);\n",
              "      position += length;\n",
              "\n",
              "      const base64 = btoa(String.fromCharCode.apply(null, chunk));\n",
              "      yield {\n",
              "        response: {\n",
              "          action: 'append',\n",
              "          file: file.name,\n",
              "          data: base64,\n",
              "        },\n",
              "      };\n",
              "\n",
              "      let percentDone = fileData.byteLength === 0 ?\n",
              "          100 :\n",
              "          Math.round((position / fileData.byteLength) * 100);\n",
              "      percent.textContent = `${percentDone}% done`;\n",
              "\n",
              "    } while (position < fileData.byteLength);\n",
              "  }\n",
              "\n",
              "  // All done.\n",
              "  yield {\n",
              "    response: {\n",
              "      action: 'complete',\n",
              "    }\n",
              "  };\n",
              "}\n",
              "\n",
              "scope.google = scope.google || {};\n",
              "scope.google.colab = scope.google.colab || {};\n",
              "scope.google.colab._files = {\n",
              "  _uploadFiles,\n",
              "  _uploadFilesContinue,\n",
              "};\n",
              "})(self);\n",
              "</script> "
            ],
            "text/plain": [
              "<IPython.core.display.HTML object>"
            ]
          },
          "metadata": {},
          "output_type": "display_data"
        },
        {
          "name": "stdout",
          "output_type": "stream",
          "text": [
            "Saving selected_features_data.csv to selected_features_data (1).csv\n",
            "Uploaded CSV file contents:\n",
            "   DllCharacteristics  DebugSize  MajorLinkerVersion  DebugRVA  ResourceSize  \\\n",
            "0               34112          0                   8         0           672   \n",
            "1               16864         84                  14    121728          1024   \n",
            "2               34112          0                   8         0           672   \n",
            "3               16736         84                  14     19904          1040   \n",
            "4               16736         84                  14     97728          1096   \n",
            "\n",
            "   Machine_34404  SizeOfStackReserve  Machine_332  NumberOfSections  IatVRA  \\\n",
            "0          False             1048576         True                 3    8192   \n",
            "1           True              262144        False                 8       0   \n",
            "2          False             1048576         True                 3    8192   \n",
            "3           True              262144        False                 6   18160   \n",
            "4           True              262144        False                 7   70592   \n",
            "\n",
            "   ...  ExportRVA  MajorOSVersion_4  BitcoinAddresses_1  BitcoinAddresses_0  \\\n",
            "0  ...          0              True               False                True   \n",
            "1  ...     126576             False               False                True   \n",
            "2  ...          0              True               False                True   \n",
            "3  ...      21312             False               False                True   \n",
            "4  ...     105792             False               False                True   \n",
            "\n",
            "   MajorOSVersion_13  MajorOSVersion_8  MajorOSVersion_9  MajorOSVersion_1  \\\n",
            "0              False             False             False             False   \n",
            "1              False             False             False             False   \n",
            "2              False             False             False             False   \n",
            "3              False             False             False             False   \n",
            "4              False             False             False             False   \n",
            "\n",
            "   MajorOSVersion_7  Benign  \n",
            "0             False       1  \n",
            "1             False       1  \n",
            "2             False       1  \n",
            "3             False       1  \n",
            "4             False       1  \n",
            "\n",
            "[5 rows x 26 columns]\n"
          ]
        }
      ],
      "source": [
        "from google.colab import files\n",
        "import pandas as pd\n",
        "\n",
        "# Prompt the user to upload a file\n",
        "uploaded = files.upload()\n",
        "\n",
        "# Get the file name\n",
        "file_name = list(uploaded.keys())[0]\n",
        "\n",
        "# Check if the uploaded file has a CSV extension\n",
        "if not file_name.lower().endswith('.csv'):\n",
        "    raise ValueError(\"File format not supported. Please upload a CSV file.\")\n",
        "\n",
        "# Load the uploaded CSV file into a DataFrame\n",
        "new_data = pd.read_csv(file_name)\n",
        "\n",
        "# Display the DataFrame\n",
        "print(\"Uploaded CSV file contents:\")\n",
        "print(new_data.head())"
      ]
    },
    {
      "cell_type": "markdown",
      "metadata": {
        "id": "dSji5hUDB0mc"
      },
      "source": [
        "## Ransomware Classification on Unseen Data - Random Forest"
      ]
    },
    {
      "cell_type": "code",
      "execution_count": null,
      "metadata": {
        "colab": {
          "base_uri": "https://localhost:8080/"
        },
        "id": "hXtzxtTcY3w1",
        "outputId": "4cd3519f-8edc-46a8-b650-e9f7f2b718a2"
      },
      "outputs": [
        {
          "name": "stdout",
          "output_type": "stream",
          "text": [
            "Predictions: [1 1 1 ... 0 0 0]\n",
            "Accuracy with Selected Features: 0.9992\n"
          ]
        }
      ],
      "source": [
        "import joblib\n",
        "import pandas as pd\n",
        "\n",
        "# Load the saved RandomForest model\n",
        "loaded_model = joblib.load('/content/model_files/random_forest_model.pkl')\n",
        "\n",
        "# Load new data for inference\n",
        "new_data = pd.read_csv('/content/selected_features_data.csv') # if you have uploaded data manually, please comment this line\n",
        "\n",
        "original_class = new_data['Benign']\n",
        "\n",
        "# Preprocess the new data\n",
        "new_data.drop(['Benign'], axis=1, inplace=True)\n",
        "\n",
        "# Perform inference on the new data\n",
        "X_new = new_data\n",
        "\n",
        "# Predict the classes of the new data\n",
        "predictions = loaded_model.predict(X_new)\n",
        "\n",
        "accuracy_selected = loaded_model.score(X_new, original_class)\n",
        "\n",
        "# Print the predictions\n",
        "print(\"Predictions:\", predictions)\n",
        "print(\"Accuracy with Selected Features:\", \"{:.4f}\".format(accuracy_selected))\n"
      ]
    },
    {
      "cell_type": "markdown",
      "metadata": {
        "id": "-wXpW4GMixhx"
      },
      "source": [
        "## Load New Dataset for XGBoost and ANN"
      ]
    },
    {
      "cell_type": "code",
      "execution_count": null,
      "metadata": {
        "id": "jKKvQoJai26k"
      },
      "outputs": [],
      "source": [
        "# libraries for the files in google drive\n",
        "from pydrive.auth import GoogleAuth\n",
        "from google.colab import drive\n",
        "from pydrive.drive import GoogleDrive\n",
        "from google.colab import auth\n",
        "from oauth2client.client import GoogleCredentials"
      ]
    },
    {
      "cell_type": "code",
      "execution_count": null,
      "metadata": {
        "colab": {
          "base_uri": "https://localhost:8080/"
        },
        "id": "IwFy6GZhjsAb",
        "outputId": "749ba51d-bcca-4c8d-b5e3-626a635e1b16"
      },
      "outputs": [
        {
          "name": "stdout",
          "output_type": "stream",
          "text": [
            "Directory already exists.\n"
          ]
        }
      ],
      "source": [
        "import os\n",
        "\n",
        "# Specify the directory name\n",
        "directory = '/content/new_data_files'\n",
        "\n",
        "# Check if the directory exists\n",
        "if not os.path.exists(directory):\n",
        "    # Create the directory\n",
        "    os.makedirs(directory)\n",
        "    print(\"Directory created successfully.\")\n",
        "else:\n",
        "    print(\"Directory already exists.\")\n"
      ]
    },
    {
      "cell_type": "code",
      "execution_count": null,
      "metadata": {
        "id": "KFY0p87QjJY5"
      },
      "outputs": [],
      "source": [
        "import os\n",
        "\n",
        "auth.authenticate_user()\n",
        "gauth = GoogleAuth()\n",
        "gauth.credentials = GoogleCredentials.get_application_default()\n",
        "drive = GoogleDrive(gauth)\n",
        "\n",
        "file_id_5 = '1lt4BnjaC7XGl0c7D1iowlY3KjglvwQas'\n",
        "\n",
        "download5 = drive.CreateFile({'id': file_id_5})\n",
        "\n",
        "# Download the file to a local disc\n",
        "download5.GetContentFile('/content/new_data_files/data_file.csv')\n",
        "\n",
        "# Rename the downloaded file\n",
        "os.rename('/content/new_data_files/data_file.csv', '/content/new_data_files/data_new_xg_ann.csv')"
      ]
    },
    {
      "cell_type": "markdown",
      "metadata": {
        "id": "bcJRW3MEmbDX"
      },
      "source": [
        "**Run below code snippet only if you want to upload data manually. Ensure that the data has all feature columns which are required.**"
      ]
    },
    {
      "cell_type": "code",
      "execution_count": null,
      "metadata": {
        "id": "-cvrDaQLmJR4"
      },
      "outputs": [],
      "source": [
        "from google.colab import files\n",
        "import pandas as pd\n",
        "\n",
        "# Prompt the user to upload a file\n",
        "uploaded = files.upload()\n",
        "\n",
        "# Get the file name\n",
        "file_name = list(uploaded.keys())[0]\n",
        "\n",
        "# Check if the uploaded file has a CSV extension\n",
        "if not file_name.lower().endswith('.csv'):\n",
        "    raise ValueError(\"File format not supported. Please upload a CSV file.\")\n",
        "\n",
        "# Load the uploaded CSV file into a DataFrame\n",
        "new_data = pd.read_csv(file_name)\n",
        "\n",
        "# Display the DataFrame\n",
        "print(\"Uploaded CSV file contents:\")\n",
        "print(new_data.head())"
      ]
    },
    {
      "cell_type": "markdown",
      "metadata": {
        "id": "lmvWijOqiTPz"
      },
      "source": [
        "## Ransomware Classification on Unseen Data - XGBoost"
      ]
    },
    {
      "cell_type": "code",
      "execution_count": null,
      "metadata": {
        "colab": {
          "base_uri": "https://localhost:8080/"
        },
        "id": "dg6mJWCMkwI1",
        "outputId": "5cb0b657-b403-428f-ae4b-4ff67a56854e"
      },
      "outputs": [
        {
          "name": "stdout",
          "output_type": "stream",
          "text": [
            "Predictions for new data: [1 1 1 ... 0 0 0]\n",
            "Accuracy on new data: 0.9981\n"
          ]
        }
      ],
      "source": [
        "import pandas as pd\n",
        "import joblib\n",
        "from sklearn.metrics import accuracy_score\n",
        "\n",
        "# Load the saved XGBoost model\n",
        "xgb_model = joblib.load('/content/model_files/xgboost_model.pkl')\n",
        "\n",
        "# Load the new data\n",
        "new_data = pd.read_csv(\"/content/new_data_files/data_new_xg_ann.csv\")  # if you have uploaded data manually please comment out this line\n",
        "\n",
        "# Preprocess the new data in a similar way as the training data\n",
        "new_data.drop(['FileName', 'md5Hash'], axis=1, inplace=True)\n",
        "new_data = pd.get_dummies(new_data, columns=['Machine', 'MajorOSVersion', 'BitcoinAddresses'])\n",
        "\n",
        "# Assuming 'Benign' column is the target variable in the new data\n",
        "X_new = new_data.drop('Benign', axis=1)\n",
        "y_true_new = new_data['Benign']\n",
        "\n",
        "# Predict the classes of the new data\n",
        "y_pred_new = xgb_model.predict(X_new)\n",
        "\n",
        "# Print or use the predictions as needed\n",
        "print(\"Predictions for new data:\", y_pred_new)\n",
        "\n",
        "# Calculate the accuracy\n",
        "accuracy_new = accuracy_score(y_true_new, y_pred_new)\n",
        "print(\"Accuracy on new data:\", \"{:.4f}\".format(accuracy_new))\n"
      ]
    },
    {
      "cell_type": "markdown",
      "metadata": {
        "id": "50EG5RT_mRsY"
      },
      "source": [
        "## Ransomware Classification on Unseen Data - ANN"
      ]
    },
    {
      "cell_type": "code",
      "execution_count": null,
      "metadata": {
        "colab": {
          "base_uri": "https://localhost:8080/"
        },
        "id": "eCCZlFtkmYRI",
        "outputId": "461d234f-b24d-4f40-b53a-1e1b7c55300a"
      },
      "outputs": [
        {
          "name": "stdout",
          "output_type": "stream",
          "text": [
            "1953/1953 [==============================] - 5s 2ms/step\n",
            "1953/1953 [==============================] - 5s 2ms/step - loss: 0.0462 - accuracy: 0.9858\n",
            "New Data Loss: 0.04621842876076698, New Data Accuracy: 0.9858046174049377\n",
            "Classification Report for New Data:\n",
            "              precision    recall  f1-score   support\n",
            "\n",
            "           0       0.99      0.99      0.99     35367\n",
            "           1       0.98      0.98      0.98     27118\n",
            "\n",
            "    accuracy                           0.99     62485\n",
            "   macro avg       0.99      0.99      0.99     62485\n",
            "weighted avg       0.99      0.99      0.99     62485\n",
            "\n",
            "Confusion Matrix for New Data:\n",
            "[[34925   442]\n",
            " [  445 26673]]\n"
          ]
        }
      ],
      "source": [
        "import pandas as pd\n",
        "import numpy as np\n",
        "import tensorflow as tf\n",
        "from sklearn.preprocessing import StandardScaler\n",
        "from sklearn.metrics import classification_report, confusion_matrix\n",
        "import matplotlib.pyplot as plt\n",
        "\n",
        "# Load the new data\n",
        "new_data = pd.read_csv(\"/content/new_data_files/data_new_xg_ann.csv\")  # Comment out if you have manually uploaded data\n",
        "\n",
        "# Drop unnecessary columns\n",
        "new_data.drop(['FileName', 'md5Hash'], axis=1, inplace=True)\n",
        "\n",
        "# Split features and target\n",
        "X_new = new_data.drop('Benign', axis=1)\n",
        "y_new = new_data['Benign']\n",
        "\n",
        "# Split data into training and testing sets\n",
        "X_train, X_test, y_train, y_test = train_test_split(X_new, y_new, test_size=0.2, random_state=42)\n",
        "\n",
        "# Standardize features\n",
        "scaler = StandardScaler()\n",
        "X_train_scaled = scaler.fit_transform(X_train)\n",
        "X_test_scaled = scaler.transform(X_test)\n",
        "\n",
        "# Standardize features using the same scaler used for training data\n",
        "X_new_scaled = scaler.transform(X_new)\n",
        "\n",
        "# Load the saved model\n",
        "model = tf.keras.models.load_model(\"/content/dnn_model\")\n",
        "\n",
        "# Predictions on the new data\n",
        "y_pred_new = (model.predict(X_new_scaled) > 0.5).astype(\"int32\")\n",
        "\n",
        "# Evaluate the model on the new data\n",
        "loss_new, accuracy_new = model.evaluate(X_new_scaled, y_new)\n",
        "print(f\"New Data Loss: {loss_new}, New Data Accuracy: {accuracy_new}\")\n",
        "\n",
        "# Classification report and confusion matrix for the new data\n",
        "print(\"Classification Report for New Data:\")\n",
        "print(classification_report(y_new, y_pred_new))\n",
        "cm_new = confusion_matrix(y_new, y_pred_new)\n",
        "print(\"Confusion Matrix for New Data:\")\n",
        "print(cm_new)\n"
      ]
    }
  ],
  "metadata": {
    "accelerator": "GPU",
    "colab": {
      "gpuType": "T4",
      "provenance": []
    },
    "kernelspec": {
      "display_name": "Python 3",
      "name": "python3"
    },
    "language_info": {
      "codemirror_mode": {
        "name": "ipython",
        "version": 3
      },
      "file_extension": ".py",
      "mimetype": "text/x-python",
      "name": "python",
      "nbconvert_exporter": "python",
      "pygments_lexer": "ipython3",
      "version": "0.0.0"
    }
  },
  "nbformat": 4,
  "nbformat_minor": 0
}
